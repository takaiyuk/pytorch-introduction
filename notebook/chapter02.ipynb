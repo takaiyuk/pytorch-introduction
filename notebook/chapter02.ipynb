{
 "cells": [
  {
   "cell_type": "markdown",
   "metadata": {},
   "source": [
    "## 2.3 線形回帰モデル"
   ]
  },
  {
   "cell_type": "markdown",
   "metadata": {},
   "source": [
    "### 2.3.2 Pytorch で線形回帰モデル （from scratch）"
   ]
  },
  {
   "cell_type": "code",
   "execution_count": 1,
   "metadata": {},
   "outputs": [
    {
     "name": "stdout",
     "output_type": "stream",
     "text": [
      "真の係数:  tensor([1., 2., 3.])\n",
      "tensor([[ 1.0000,  0.1738,  0.9267],\n",
      "        [ 1.0000,  0.8472, -0.0682],\n",
      "        [ 1.0000, -0.0067, -2.7809]])\n",
      "tensor([ 4.6483,  2.8019, -7.3666])\n",
      "tensor([ 0.3851, -0.8373, -0.7041], requires_grad=True)\n"
     ]
    }
   ],
   "source": [
    "\"\"\"\n",
    "テストデータを生成してパラメータを学習するための変数を準備\n",
    "\"\"\"\n",
    "\n",
    "import torch\n",
    "\n",
    "# 真の係数\n",
    "w_true = torch.Tensor([1,2,3])\n",
    "print(\"真の係数: \", w_true)\n",
    "\n",
    "# X のデータの準備。切片を回帰係数に含めるため、\n",
    "# X の最初の次元に1を追加しておく\n",
    "X = torch.cat([torch.ones(100,1), torch.randn(100,2)], 1)\n",
    "print(X[:3])\n",
    "\n",
    "# 真の係数と各 X との内積を行列とベクトルの積でまとめて計算\n",
    "y = torch.mv(X, w_true) + torch.randn(100) * 0.5\n",
    "print(y[:3])\n",
    "\n",
    "# 勾配降下で最適化するためのパラメータの Tensor を\n",
    "# 乱数で初期化して作成\n",
    "w = torch.randn(3, requires_grad = True)\n",
    "print(w)\n",
    "\n",
    "# 学習率\n",
    "gamma = 0.1"
   ]
  },
  {
   "cell_type": "code",
   "execution_count": 2,
   "metadata": {},
   "outputs": [
    {
     "name": "stdout",
     "output_type": "stream",
     "text": [
      "torch.Size([100, 3])\n"
     ]
    },
    {
     "data": {
      "text/plain": [
       "tensor([[ 1.0000,  0.1738,  0.9267],\n",
       "        [ 1.0000,  0.8472, -0.0682],\n",
       "        [ 1.0000, -0.0067, -2.7809],\n",
       "        [ 1.0000, -0.1340,  0.0217],\n",
       "        [ 1.0000,  1.2248, -0.4318],\n",
       "        [ 1.0000,  0.3690,  0.7284],\n",
       "        [ 1.0000, -0.9620,  1.6798],\n",
       "        [ 1.0000, -0.2178, -0.6987],\n",
       "        [ 1.0000,  0.7530, -0.2914],\n",
       "        [ 1.0000, -0.9493,  0.9920]])"
      ]
     },
     "execution_count": 2,
     "metadata": {},
     "output_type": "execute_result"
    }
   ],
   "source": [
    "print(X.size())\n",
    "X[:10]"
   ]
  },
  {
   "cell_type": "code",
   "execution_count": 3,
   "metadata": {},
   "outputs": [
    {
     "data": {
      "text/plain": [
       "tensor([ 0.3851, -0.8373, -0.7041], requires_grad=True)"
      ]
     },
     "execution_count": 3,
     "metadata": {},
     "output_type": "execute_result"
    }
   ],
   "source": [
    "w"
   ]
  },
  {
   "cell_type": "code",
   "execution_count": 4,
   "metadata": {},
   "outputs": [
    {
     "name": "stdout",
     "output_type": "stream",
     "text": [
      "==============================\n",
      "w: tensor([ 0.3411, -0.3446,  0.1673], requires_grad=True)\n",
      "y_pred: tensor([-0.4130, -0.2763,  2.3488,  0.4820, -0.3364, -0.4368,  0.0077,  1.0594,\n",
      "        -0.0402,  0.4814,  2.4179, -0.0398,  1.2670, -1.5719,  0.6958,  0.7040,\n",
      "         1.9924, -1.2846,  1.1483,  0.8410,  0.2585, -0.3504,  0.6193,  0.8998,\n",
      "         1.4483,  0.5597,  0.8141,  1.1119, -1.6919,  0.6459, -2.0962,  1.0690,\n",
      "         0.7412, -1.1050,  2.6806, -0.7174, -0.2022, -0.1666,  1.1570,  0.7203,\n",
      "         1.4627,  0.1300,  1.1406, -0.4131,  0.5169,  0.3518,  0.0349,  1.0693,\n",
      "         2.2051, -0.9462, -0.9158,  1.8275,  0.7315,  0.8618,  0.1630, -1.0231,\n",
      "         0.9271,  0.1940,  0.3004,  1.0965,  1.0231, -0.3555,  0.1920,  0.2781,\n",
      "         2.6721, -1.2070,  1.6704, -0.7774,  0.5505,  1.6082, -0.3924,  2.7976,\n",
      "         2.3962,  1.5885,  1.9533,  0.9495,  0.3789, -0.9535,  2.5010,  1.5312,\n",
      "         0.8944, -0.5739,  1.4448,  0.4001,  0.4172,  0.2401,  1.3651,  1.1689,\n",
      "        -1.7981, -1.0486,  2.6345,  1.5890,  2.2607,  1.1353,  0.1151,  2.1792,\n",
      "        -0.4343,  1.7789,  0.7496,  0.5158], grad_fn=<MvBackward>)\n",
      "loss: tensor(22.8801, grad_fn=<MeanBackward1>)\n",
      "==============================\n",
      "w: tensor([0.7991, 1.6027, 2.7285], requires_grad=True)\n",
      "y_pred: tensor([ 3.4974,  1.8732, -6.6755,  0.6102,  1.4811,  3.2670,  3.7679, -1.4409,\n",
      "         1.1332,  1.9514, -5.1903,  0.4502, -1.4701,  4.3653, -1.1138, -0.2217,\n",
      "        -3.5415,  8.8017, -2.4629, -0.0767,  0.6189,  3.9929, -1.4048,  0.0075,\n",
      "        -2.3680, -1.3300, -0.0363,  0.8452,  5.6464, -0.4694,  7.3723, -1.1595,\n",
      "        -0.6097,  5.6022, -5.5249,  2.7695,  2.2630,  3.0702,  0.5283, -1.1310,\n",
      "        -2.5020,  2.4814, -1.7449,  4.7021,  0.3756, -0.5915,  1.9379, -2.2766,\n",
      "        -3.6211,  3.8281,  4.9075, -2.5881, -2.3348,  0.3961,  1.5261,  5.1498,\n",
      "        -2.7858,  2.9377,  1.9307, -0.8295,  0.0838,  3.5706, -1.3156,  1.2527,\n",
      "        -5.6305,  3.1889, -3.6309,  4.9060,  1.5759, -2.6842,  3.4514, -6.3361,\n",
      "        -6.0428, -1.3806, -5.4925, -1.2564, -0.0139,  4.7762, -5.5286, -1.5781,\n",
      "        -1.3414,  1.9379, -1.5467,  0.8303,  1.5169,  2.6066, -2.4314, -1.3344,\n",
      "         6.8107,  2.1946, -3.5917, -2.0432, -4.4908, -1.3164,  3.0746, -3.6958,\n",
      "         3.4684, -3.5624, -1.4094, -0.2671], grad_fn=<MvBackward>)\n",
      "loss: tensor(0.5115, grad_fn=<MeanBackward1>)\n"
     ]
    }
   ],
   "source": [
    "\"\"\"\n",
    "勾配降下法でパラメータを最適化\n",
    "\"\"\"\n",
    "\n",
    "# 損失関数のログ\n",
    "losses = []\n",
    "\n",
    "# 100回イテレーションを回す\n",
    "for epoc in range(20):\n",
    "    \n",
    "    # 前回の backward メソッドで計算された勾配の値を削除\n",
    "    w.grad = None\n",
    "    \n",
    "    # 線形モデルで y の予測値を計算\n",
    "    y_pred = torch.mv(X, w)\n",
    "    \n",
    "    # MSE loss と w による微分を計算\n",
    "    loss = torch.mean((y - y_pred)**2)\n",
    "    loss.backward()\n",
    "    \n",
    "    # 勾配を更新する\n",
    "    # w をそのまま代入して更新すると異なる Tensor になって\n",
    "    # 計算グラフが破壊されてしまうので data だけを更新する\n",
    "    w.data = w.data - gamma * w.grad.data\n",
    "    if epoc%10==0: \n",
    "        print(\"=\"*30)\n",
    "        print(\"w:\", w)\n",
    "        print(\"y_pred:\", y_pred)\n",
    "        print(\"loss:\", loss)\n",
    "    \n",
    "    # 収束確認のために loss を記録しておく\n",
    "    losses.append(loss.item())"
   ]
  },
  {
   "cell_type": "code",
   "execution_count": 5,
   "metadata": {},
   "outputs": [
    {
     "data": {
      "image/png": "[encoded data removed]",
      "text/plain": [
       "<Figure size 432x288 with 1 Axes>"
      ]
     },
     "metadata": {
      "needs_background": "light"
     },
     "output_type": "display_data"
    }
   ],
   "source": [
    "%matplotlib inline\n",
    "import matplotlib.pyplot as plt\n",
    "plt.plot(losses)\n",
    "plt.show()"
   ]
  },
  {
   "cell_type": "code",
   "execution_count": 6,
   "metadata": {},
   "outputs": [
    {
     "data": {
      "text/plain": [
       "tensor([0.9961, 1.8855, 2.9213], requires_grad=True)"
      ]
     },
     "execution_count": 6,
     "metadata": {},
     "output_type": "execute_result"
    }
   ],
   "source": [
    "w  # 正しく a=(1, 2, 3) が学習できていた"
   ]
  },
  {
   "cell_type": "markdown",
   "metadata": {},
   "source": [
    "### 2.3.3 Pytorch で線形回帰モデル （nn, optim モジュールの使用）\n",
    "\n",
    "- 自動微分以外はスクラッチで書いた。ただし、モデルの構築や勾配降下の計算は PyTorch で実装されている。\n",
    "- モデルの構築は `torch.nn`, 最適化は `torch.optim` に含まれている。"
   ]
  },
  {
   "cell_type": "code",
   "execution_count": 7,
   "metadata": {},
   "outputs": [],
   "source": [
    "\"\"\"\n",
    "線形回帰モデルの構築と最適化の準備\n",
    "\"\"\"\n",
    "\n",
    "from torch import nn, optim\n",
    "\n",
    "# Linear 層を作成。今回は切片校は回帰係数に含めるので、\n",
    "# 入力の次元を 3 にし、bias(切片)を False にする\n",
    "net = nn.Linear(in_features = 3, out_features = 1, bias = False)\n",
    "\n",
    "# SGD のオプティマイザーに上で定義したネットワークの\n",
    "# パラメータを渡して初期化\n",
    "optimizer = optim.SGD(net.parameters(), lr=0.1)\n",
    "\n",
    "# MSE lossクラス\n",
    "loss_fn = nn.MSELoss()"
   ]
  },
  {
   "cell_type": "code",
   "execution_count": 8,
   "metadata": {},
   "outputs": [
    {
     "name": "stdout",
     "output_type": "stream",
     "text": [
      "==============================\n",
      "optimizer: SGD (\n",
      "Parameter Group 0\n",
      "    dampening: 0\n",
      "    lr: 0.1\n",
      "    momentum: 0\n",
      "    nesterov: False\n",
      "    weight_decay: 0\n",
      ") \n",
      "\n",
      "y_pred: torch.Size([100, 1]) \n",
      " tensor([[ 1.0123],\n",
      "        [ 0.3182],\n",
      "        [-0.9336],\n",
      "        [ 0.6002],\n",
      "        [ 0.0332],\n",
      "        [ 0.8594],\n",
      "        [ 1.6869],\n",
      "        [ 0.2337],\n",
      "        [ 0.2209],\n",
      "        [ 1.3149]], grad_fn=<SliceBackward>) \n",
      "\n",
      "loss: tensor(11.3388, grad_fn=<MseLossBackward>) \n",
      "\n",
      "net.parameters: [Parameter containing:\n",
      "tensor([[0.5317, 0.1500, 1.1099]], requires_grad=True)]\n",
      "==============================\n",
      "optimizer: SGD (\n",
      "Parameter Group 0\n",
      "    dampening: 0\n",
      "    lr: 0.1\n",
      "    momentum: 0\n",
      "    nesterov: False\n",
      "    weight_decay: 0\n",
      ") \n",
      "\n",
      "y_pred: torch.Size([100, 1]) \n",
      " tensor([[ 3.6826],\n",
      "        [ 2.0304],\n",
      "        [-6.8488],\n",
      "        [ 0.6830],\n",
      "        [ 1.6404],\n",
      "        [ 3.4524],\n",
      "        [ 3.9153],\n",
      "        [-1.4424],\n",
      "        [ 1.2609],\n",
      "        [ 2.0367]], grad_fn=<SliceBackward>) \n",
      "\n",
      "loss: tensor(0.3766, grad_fn=<MseLossBackward>) \n",
      "\n",
      "net.parameters: [Parameter containing:\n",
      "tensor([[0.8708, 1.6816, 2.8009]], requires_grad=True)]\n"
     ]
    }
   ],
   "source": [
    "\"\"\"\n",
    "最適化のイテレーションを回す\n",
    "\"\"\"\n",
    "\n",
    "# 損失関数のログ\n",
    "losses = []\n",
    "\n",
    "# 100回イテレーションを回す\n",
    "for epoc in range(20):\n",
    "    \n",
    "    # 前回の backward メソッドで計算された勾配の値を削除\n",
    "    optimizer.zero_grad()\n",
    "    \n",
    "    # 線形モデルで y の予測値を計算\n",
    "    y_pred = net(X)\n",
    "    \n",
    "    # MSE loss を計算\n",
    "    # y_pred は (n, 1) のような shape を持っているので (n, ) に直す必要がある\n",
    "    loss = loss_fn(y_pred.view_as(y), y)\n",
    "    \n",
    "    # loss の w による微分を計算\n",
    "    loss.backward()\n",
    "    \n",
    "    # 勾配を更新する\n",
    "    optimizer.step()\n",
    "    if epoc%10==0: \n",
    "        print(\"=\"*30)\n",
    "        print(\"optimizer:\", optimizer, \"\\n\")\n",
    "        print(\"y_pred:\", y_pred.size(), \"\\n\", y_pred[:10], \"\\n\")\n",
    "        print(\"loss:\", loss, \"\\n\")\n",
    "        print(\"net.parameters:\", list(net.parameters()))\n",
    "    \n",
    "    # 収束確認のために loss を記録しておく\n",
    "    losses.append(loss.item())"
   ]
  },
  {
   "cell_type": "code",
   "execution_count": 9,
   "metadata": {},
   "outputs": [
    {
     "data": {
      "image/png": "[encoded data removed]",
      "text/plain": [
       "<Figure size 432x288 with 1 Axes>"
      ]
     },
     "metadata": {
      "needs_background": "light"
     },
     "output_type": "display_data"
    }
   ],
   "source": [
    "plt.plot(losses)\n",
    "plt.show()"
   ]
  },
  {
   "cell_type": "code",
   "execution_count": 10,
   "metadata": {},
   "outputs": [
    {
     "data": {
      "text/plain": [
       "[Parameter containing:\n",
       " tensor([[1.0121, 1.9014, 2.9310]], requires_grad=True)]"
      ]
     },
     "execution_count": 10,
     "metadata": {},
     "output_type": "execute_result"
    }
   ],
   "source": [
    "list(net.parameters())  # 2.3.2 でスクラッチで書いたのと同じ結果になった"
   ]
  },
  {
   "cell_type": "markdown",
   "metadata": {},
   "source": [
    "## 2.4 ロジスティック回帰"
   ]
  },
  {
   "cell_type": "markdown",
   "metadata": {},
   "source": [
    "### 2.4.2 PyTorch でロジスティック回帰"
   ]
  },
  {
   "cell_type": "code",
   "execution_count": 22,
   "metadata": {},
   "outputs": [],
   "source": [
    "\"\"\"\n",
    "iris のデータセットの準備\n",
    "\"\"\"\n",
    "\n",
    "from sklearn.datasets import load_iris\n",
    "iris = load_iris()\n",
    "\n",
    "# (0,1)の2クラス分のデータだけを使用する\n",
    "# 本来は訓練用とテスト用に分けるべきだがここでは省略\n",
    "X = iris.data[:100]\n",
    "y = iris.target[:100]\n",
    "\n",
    "# Numpy の ndarray を PyTorch の Tensor に変換\n",
    "X = torch.tensor(X, dtype=torch.float32)\n",
    "y = torch.tensor(y, dtype=torch.float32)"
   ]
  },
  {
   "cell_type": "code",
   "execution_count": 23,
   "metadata": {},
   "outputs": [],
   "source": [
    "\"\"\"\n",
    "モデルの作成\n",
    "\"\"\"\n",
    "\n",
    "# iris のデータは4次元\n",
    "net = nn.Linear(X.size()[1], 1)\n",
    "\n",
    "# シグモイド関数を作用させ、2クラスの分類のクロスエントロピーを計算する関数\n",
    "loss_fn = nn.BCEWithLogitsLoss()  # Binary Cross Entropy\n",
    "\n",
    "# SGD（少し大きめの学習率）\n",
    "optimizer = optim.SGD(net.parameters(), lr=0.25)"
   ]
  },
  {
   "cell_type": "code",
   "execution_count": 24,
   "metadata": {},
   "outputs": [
    {
     "name": "stdout",
     "output_type": "stream",
     "text": [
      "==============================\n",
      "optimizer: SGD (\n",
      "Parameter Group 0\n",
      "    dampening: 0\n",
      "    lr: 0.25\n",
      "    momentum: 0\n",
      "    nesterov: False\n",
      "    weight_decay: 0\n",
      ") \n",
      "\n",
      "y_pred: torch.Size([100, 1]) \n",
      " tensor([[-2.3179],\n",
      "        [-2.1212],\n",
      "        [-2.1294],\n",
      "        [-1.9964],\n",
      "        [-2.3043],\n",
      "        [-2.4244],\n",
      "        [-2.1057],\n",
      "        [-2.2204],\n",
      "        [-1.9078],\n",
      "        [-2.1088]], grad_fn=<SliceBackward>) \n",
      "\n",
      "loss: tensor(0.8857, grad_fn=<MeanBackward1>) \n",
      "\n",
      "net.parameters: [Parameter containing:\n",
      "tensor([[ 0.1634, -0.0019,  0.7682,  0.1192]], requires_grad=True), Parameter containing:\n",
      "tensor([0.0545], requires_grad=True)]\n",
      "==============================\n",
      "optimizer: SGD (\n",
      "Parameter Group 0\n",
      "    dampening: 0\n",
      "    lr: 0.25\n",
      "    momentum: 0\n",
      "    nesterov: False\n",
      "    weight_decay: 0\n",
      ") \n",
      "\n",
      "y_pred: torch.Size([100, 1]) \n",
      " tensor([[-2.0339],\n",
      "        [-1.6620],\n",
      "        [-1.8477],\n",
      "        [-1.5118],\n",
      "        [-2.0658],\n",
      "        [-1.9410],\n",
      "        [-1.7865],\n",
      "        [-1.8196],\n",
      "        [-1.4485],\n",
      "        [-1.6364]], grad_fn=<SliceBackward>) \n",
      "\n",
      "loss: tensor(0.1419, grad_fn=<MeanBackward1>) \n",
      "\n",
      "net.parameters: [Parameter containing:\n",
      "tensor([[-0.2980, -0.6381,  1.2546,  0.3536]], requires_grad=True), Parameter containing:\n",
      "tensor([-0.0845], requires_grad=True)]\n"
     ]
    }
   ],
   "source": [
    "\"\"\"\n",
    "パラメータ最適化のイテレーションを回す\n",
    "\"\"\"\n",
    "\n",
    "# 損失関数のログ\n",
    "losses = []\n",
    "\n",
    "# イテレーションを回す\n",
    "for epoc in range(20):\n",
    "    # 前回の backward メソッドで計算された勾配の値を削除\n",
    "    optimizer.zero_grad()\n",
    "    \n",
    "    # 線形モデルで y の予測値の計算\n",
    "    y_pred = net(X)\n",
    "    \n",
    "    # MSE loss と w による微分を計算\n",
    "    loss = loss_fn(y_pred.view_as(y), y)\n",
    "    loss.backward()\n",
    "    \n",
    "    # 勾配を更新する\n",
    "    optimizer.step()\n",
    "    \n",
    "    # 収束確認のために loss を記録しておく\n",
    "    losses.append(loss.item())\n",
    "    \n",
    "    if epoc%10==0: \n",
    "        print(\"=\"*30)\n",
    "        print(\"optimizer:\", optimizer, \"\\n\")\n",
    "        print(\"y_pred:\", y_pred.size(), \"\\n\", y_pred[:10], \"\\n\")\n",
    "        print(\"loss:\", loss, \"\\n\")\n",
    "        print(\"net.parameters:\", list(net.parameters()))"
   ]
  },
  {
   "cell_type": "code",
   "execution_count": 25,
   "metadata": {},
   "outputs": [
    {
     "data": {
      "image/png": "[encoded data removed]",
      "text/plain": [
       "<Figure size 432x288 with 1 Axes>"
      ]
     },
     "metadata": {
      "needs_background": "light"
     },
     "output_type": "display_data"
    }
   ],
   "source": [
    "plt.plot(losses)\n",
    "plt.show()"
   ]
  },
  {
   "cell_type": "code",
   "execution_count": 15,
   "metadata": {},
   "outputs": [
    {
     "data": {
      "text/plain": [
       "100"
      ]
     },
     "execution_count": 15,
     "metadata": {},
     "output_type": "execute_result"
    }
   ],
   "source": [
    "\"\"\"\n",
    "モデルの作成\n",
    "\"\"\"\n",
    "\n",
    "# 線形結合の結果\n",
    "h = net(X)\n",
    "\n",
    "# シグモイド関数を作用させた結果は y=1 の確率を表す\n",
    "prob = torch.sigmoid(h)  # prob = nn.functional.sigmoid(h)\n",
    "\n",
    "# 確率が0.5以上のものをクラス1と予想し、それ以外を0とする\n",
    "# PyTorch には Bool型がないので対応する型として ByteTensor が出力される\n",
    "y_pred = prob > 0.5\n",
    "\n",
    "# 予測結果の確認（y は FloatTensor なので ByteTensor に変換してから比較する）\n",
    "(y.byte() == y_pred.view_as(y)).sum().item()"
   ]
  },
  {
   "cell_type": "markdown",
   "metadata": {},
   "source": [
    "### 2.4.3 多クラスのロジスティック回帰"
   ]
  },
  {
   "cell_type": "code",
   "execution_count": 16,
   "metadata": {},
   "outputs": [],
   "source": [
    "\"\"\"\n",
    "10種類の手書きの数字のデータセットの分類問題\n",
    "\"\"\"\n",
    "\n",
    "from sklearn.datasets import load_digits\n",
    "digits = load_digits()\n",
    "\n",
    "X = digits.data\n",
    "y = digits.target\n",
    "\n",
    "X = torch.tensor(X, dtype=torch.float32)\n",
    "# CrossEntropyLoss 関数は y として int64型の Tensor を受け取るので注意\n",
    "y = torch.tensor(y, dtype=torch.int64)\n",
    "\n",
    "# 出力は10（クラス数）次元\n",
    "net = nn.Linear(X.size()[1], 10)\n",
    "\n",
    "# ソフトマックスクロスエントロピー\n",
    "loss_fn = nn.CrossEntropyLoss()\n",
    "\n",
    "# SGD\n",
    "optimizer = optim.SGD(net.parameters(), lr=0.01)"
   ]
  },
  {
   "cell_type": "code",
   "execution_count": 17,
   "metadata": {},
   "outputs": [
    {
     "name": "stdout",
     "output_type": "stream",
     "text": [
      "tensor([ 0.,  0.,  5., 13.,  9.,  1.,  0.,  0.,  0.,  0., 13., 15., 10., 15.,\n",
      "         5.,  0.,  0.,  3., 15.,  2.,  0., 11.,  8.,  0.,  0.,  4., 12.,  0.,\n",
      "         0.,  8.,  8.,  0.,  0.,  5.,  8.,  0.,  0.,  9.,  8.,  0.,  0.,  4.,\n",
      "        11.,  0.,  1., 12.,  7.,  0.,  0.,  2., 14.,  5., 10., 12.,  0.,  0.,\n",
      "         0.,  0.,  6., 13., 10.,  0.,  0.,  0.]) tensor(0)\n"
     ]
    },
    {
     "data": {
      "image/png": "[encoded data removed]",
      "text/plain": [
       "<Figure size 432x288 with 1 Axes>"
      ]
     },
     "metadata": {
      "needs_background": "light"
     },
     "output_type": "display_data"
    }
   ],
   "source": [
    "print( X[0], y[0] )\n",
    "plt.imshow(X[0].view(8,8) / X[0].max(), cmap=plt.cm.gray_r, interpolation='nearest')\n",
    "plt.show()"
   ]
  },
  {
   "cell_type": "code",
   "execution_count": 18,
   "metadata": {},
   "outputs": [],
   "source": [
    "\"\"\"\n",
    "学習のイテレーション部分\n",
    "\"\"\"\n",
    "\n",
    "# 損失関数のログ\n",
    "losses = []\n",
    "\n",
    "# イテレーションを回す\n",
    "for epoc in range(100):\n",
    "    # 前回の backward メソッドで計算された勾配の値を削除\n",
    "    optimizer.zero_grad()\n",
    "    \n",
    "    # 線形モデルで y の予測値の計算\n",
    "    y_pred = net(X)\n",
    "    \n",
    "    # MSE loss と w による微分を計算\n",
    "    loss = loss_fn(y_pred, y)\n",
    "    loss.backward()\n",
    "    \n",
    "    # 勾配を更新する\n",
    "    optimizer.step()\n",
    "    \n",
    "    # 収束確認のために loss を記録しておく\n",
    "    losses.append(loss.item())"
   ]
  },
  {
   "cell_type": "code",
   "execution_count": 19,
   "metadata": {},
   "outputs": [
    {
     "data": {
      "image/png": "[encoded data removed]",
      "text/plain": [
       "<Figure size 432x288 with 1 Axes>"
      ]
     },
     "metadata": {
      "needs_background": "light"
     },
     "output_type": "display_data"
    }
   ],
   "source": [
    "plt.plot(losses)\n",
    "plt.show()"
   ]
  },
  {
   "cell_type": "code",
   "execution_count": 20,
   "metadata": {},
   "outputs": [
    {
     "data": {
      "text/plain": [
       "0.9382303839732888"
      ]
     },
     "execution_count": 20,
     "metadata": {},
     "output_type": "execute_result"
    }
   ],
   "source": [
    "\"\"\"\n",
    "正解率\n",
    "\"\"\"\n",
    "\n",
    "# torch.max は集計軸を指定すると最大値の他にその位置を返す\n",
    "_, y_pred = torch.max(net(X), 1)\n",
    "\n",
    "# 正解率を計算する\n",
    "(y_pred == y).sum().item() / len(y)"
   ]
  },
  {
   "cell_type": "code",
   "execution_count": null,
   "metadata": {},
   "outputs": [],
   "source": []
  }
 ],
 "metadata": {
  "kernelspec": {
   "display_name": "Python 3",
   "language": "python",
   "name": "python3"
  },
  "language_info": {
   "codemirror_mode": {
    "name": "ipython",
    "version": 3
   },
   "file_extension": ".py",
   "mimetype": "text/x-python",
   "name": "python",
   "nbconvert_exporter": "python",
   "pygments_lexer": "ipython3",
   "version": "3.6.2"
  }
 },
 "nbformat": 4,
 "nbformat_minor": 2
}
