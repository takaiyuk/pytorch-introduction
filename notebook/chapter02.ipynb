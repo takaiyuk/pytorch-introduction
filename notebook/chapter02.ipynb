{
 "cells": [
  {
   "cell_type": "code",
   "execution_count": 6,
   "metadata": {},
   "outputs": [],
   "source": [
    "import os\n",
    "import random\n",
    "import numpy as np\n",
    "import tensorflow as tf\n",
    "from tqdm import tqdm\n",
    "\n",
    "import torch\n",
    "from torch import nn, optim\n",
    "from sklearn.datasets import load_iris, load_digits\n",
    "\n",
    "%matplotlib inline\n",
    "import matplotlib.pyplot as plt; plt.rcParams['figure.figsize']=(10,5)\n",
    "import seaborn as sns; sns.set()"
   ]
  },
  {
   "cell_type": "code",
   "execution_count": 2,
   "metadata": {},
   "outputs": [],
   "source": [
    "## シード固定\n",
    "def fix_seed(seed=42):  # https://www.kaggle.com/kaerunantoka/titanic-pytorch-nn-tutorial\n",
    "    random.seed(seed)\n",
    "    os.environ['PYTHONHASHSEED'] = str(seed)\n",
    "    tf.set_random_seed(seed)\n",
    "    np.random.seed(seed)\n",
    "    torch.manual_seed(seed)\n",
    "    torch.cuda.manual_seed(seed)\n",
    "    torch.backends.cudnn.deterministic = True\n",
    "\n",
    "\n",
    "## 単純な線形モデル\n",
    "def torch_simple_nn(X, y, lr, loss_fn, output_features=1, epochs=20, ):\n",
    "    net = nn.Linear(in_features = X.size()[1], out_features = output_features, bias = False)\n",
    "    optimizer = optim.SGD(net.parameters(), lr=lr)\n",
    "    loss_fn = loss_fn\n",
    "\n",
    "    losses = []\n",
    "    for epoc in tqdm(range(epochs)):\n",
    "        optimizer.zero_grad()  # 勾配の値を初期化\n",
    "        y_pred = net(X)  # 予測値を計算\n",
    "        if output_features==1:\n",
    "            loss = loss_fn(y_pred.view_as(y), y)  # lossを計算、view_asでshapeを変換\n",
    "        else:\n",
    "            loss = loss_fn(y_pred, y)\n",
    "        loss.backward()  # loss の w による微分を計算\n",
    "        optimizer.step()  # 勾配を更新する\n",
    "        losses.append(loss.item())  # 収束確認のために loss を記録しておく\n",
    "        \n",
    "    return net, losses\n",
    "\n",
    "\n",
    "## 予測\n",
    "def torch_predict(net, X, y, model_type):\n",
    "    h = net(X)  # 線形結合の結果\n",
    "    if model_type==\"binary\":\n",
    "        prob = torch.sigmoid(h)  # シグモイド関数を作用させた結果は y=1 の確率を表す\n",
    "        y_pred = prob > 0.5  # 確率が0.5以上のものをクラス1と予想し、それ以外を0とする\n",
    "        accuracy_score = (y.byte() == y_pred.view_as(y)).sum().item() / len(y)  # PyTorch には Bool型がないので対応する型として ByteTensor が出力される\n",
    "    elif model_type==\"multi_class\":\n",
    "        prob, y_pred = torch.max(h, 1)\n",
    "        accuracy_score = (y_pred==y).sum().item() / len(y)\n",
    "    else:\n",
    "        assert model_type==\"binary\" or model_type==\"multi_class\", \"model_type must be binary or multi-class\"\n",
    "        \n",
    "    return prob, y_pred, accuracy_score\n",
    "\n",
    "\n",
    "## ロスの減少の様子をグラフ化する\n",
    "def plot_losses(losses):\n",
    "    plt.plot(losses)\n",
    "    plt.show()"
   ]
  },
  {
   "cell_type": "code",
   "execution_count": 3,
   "metadata": {},
   "outputs": [],
   "source": [
    "fix_seed()"
   ]
  },
  {
   "cell_type": "markdown",
   "metadata": {},
   "source": [
    "## 単純な線形回帰モデル"
   ]
  },
  {
   "cell_type": "code",
   "execution_count": 4,
   "metadata": {},
   "outputs": [
    {
     "name": "stdout",
     "output_type": "stream",
     "text": [
      "真の係数:  tensor([1., 2., 3.])\n"
     ]
    }
   ],
   "source": [
    "# 真の係数\n",
    "w_true = torch.Tensor([1,2,3])\n",
    "print(\"真の係数: \", w_true)\n",
    "\n",
    "# Xとyを定義\n",
    "X = torch.cat([torch.ones(100,1), torch.randn(100,2)], 1)\n",
    "y = torch.mv(X, w_true) + torch.randn(100) * 0.5"
   ]
  },
  {
   "cell_type": "code",
   "execution_count": 7,
   "metadata": {},
   "outputs": [
    {
     "name": "stderr",
     "output_type": "stream",
     "text": [
      "100%|██████████| 100/100 [00:00<00:00, 4579.13it/s]\n"
     ]
    },
    {
     "name": "stdout",
     "output_type": "stream",
     "text": [
      "[Parameter containing:\n",
      "tensor([[1.1046, 2.0486, 2.9930]], requires_grad=True)]\n"
     ]
    },
    {
     "data": {
      "image/png": "[encoded data removed]",
      "text/plain": [
       "<Figure size 720x360 with 1 Axes>"
      ]
     },
     "metadata": {},
     "output_type": "display_data"
    }
   ],
   "source": [
    "# モデル構築\n",
    "net, losses = torch_simple_nn(X, y, lr=0.1, loss_fn=nn.MSELoss(), epochs=100)\n",
    "print( list(net.parameters()) )\n",
    "plot_losses(losses)"
   ]
  },
  {
   "cell_type": "markdown",
   "metadata": {},
   "source": [
    "## 単純なロジスティック回帰"
   ]
  },
  {
   "cell_type": "code",
   "execution_count": 8,
   "metadata": {},
   "outputs": [],
   "source": [
    "iris = load_iris()\n",
    "X = iris.data[:100]\n",
    "y = iris.target[:100]\n",
    "\n",
    "# Numpy の ndarray を PyTorch の Tensor に変換\n",
    "X = torch.tensor(X, dtype=torch.float32)\n",
    "y = torch.tensor(y, dtype=torch.float32)"
   ]
  },
  {
   "cell_type": "code",
   "execution_count": 9,
   "metadata": {},
   "outputs": [
    {
     "name": "stderr",
     "output_type": "stream",
     "text": [
      "100%|██████████| 100/100 [00:00<00:00, 1873.32it/s]\n"
     ]
    },
    {
     "name": "stdout",
     "output_type": "stream",
     "text": [
      "[Parameter containing:\n",
      "tensor([[-0.4699, -1.4188,  2.2596,  0.8685]], requires_grad=True)]\n"
     ]
    },
    {
     "data": {
      "image/png": "[encoded data removed]",
      "text/plain": [
       "<Figure size 720x360 with 1 Axes>"
      ]
     },
     "metadata": {},
     "output_type": "display_data"
    }
   ],
   "source": [
    "# モデル構築\n",
    "net, losses = torch_simple_nn(X, y, lr=0.25, loss_fn=nn.BCEWithLogitsLoss(), epochs=100)\n",
    "print( list(net.parameters()) )\n",
    "plot_losses(losses)"
   ]
  },
  {
   "cell_type": "code",
   "execution_count": 10,
   "metadata": {},
   "outputs": [
    {
     "name": "stdout",
     "output_type": "stream",
     "text": [
      "正解率:  1.0\n"
     ]
    }
   ],
   "source": [
    "# モデルで予測\n",
    "prob, y_pred, accuracy_score = torch_predict(net, X, y, model_type=\"binary\")\n",
    "print(\"正解率: \", accuracy_score)"
   ]
  },
  {
   "cell_type": "markdown",
   "metadata": {},
   "source": [
    "## 多クラス分類"
   ]
  },
  {
   "cell_type": "code",
   "execution_count": 11,
   "metadata": {},
   "outputs": [],
   "source": [
    "digits = load_digits()\n",
    "X = digits.data\n",
    "y = digits.target\n",
    "\n",
    "# Numpy の ndarray を PyTorch の Tensor に変換\n",
    "X = torch.tensor(X, dtype=torch.float32)\n",
    "y = torch.tensor(y, dtype=torch.int64)  # CrossEntropyLoss 関数は y として int64型の Tensor を受け取るので注意"
   ]
  },
  {
   "cell_type": "code",
   "execution_count": 12,
   "metadata": {},
   "outputs": [
    {
     "name": "stderr",
     "output_type": "stream",
     "text": [
      "100%|██████████| 100/100 [00:00<00:00, 825.95it/s]\n"
     ]
    },
    {
     "data": {
      "image/png": "[encoded data removed]",
      "text/plain": [
       "<Figure size 720x360 with 1 Axes>"
      ]
     },
     "metadata": {},
     "output_type": "display_data"
    }
   ],
   "source": [
    "# モデル構築\n",
    "net, losses = torch_simple_nn(X, y, lr=0.01, loss_fn=nn.CrossEntropyLoss(), output_features=10, epochs=100)\n",
    "plot_losses(losses)"
   ]
  },
  {
   "cell_type": "code",
   "execution_count": 13,
   "metadata": {},
   "outputs": [
    {
     "name": "stdout",
     "output_type": "stream",
     "text": [
      "正解率:  0.9543683917640512\n"
     ]
    }
   ],
   "source": [
    "# モデルで予測\n",
    "prob, y_pred, accuracy_score = torch_predict(net, X, y, model_type=\"multi_class\")\n",
    "print(\"正解率: \", accuracy_score)"
   ]
  },
  {
   "cell_type": "code",
   "execution_count": null,
   "metadata": {},
   "outputs": [],
   "source": []
  }
 ],
 "metadata": {
  "kernelspec": {
   "display_name": "Python 3",
   "language": "python",
   "name": "python3"
  },
  "language_info": {
   "codemirror_mode": {
    "name": "ipython",
    "version": 3
   },
   "file_extension": ".py",
   "mimetype": "text/x-python",
   "name": "python",
   "nbconvert_exporter": "python",
   "pygments_lexer": "ipython3",
   "version": "3.6.2"
  }
 },
 "nbformat": 4,
 "nbformat_minor": 2
}
