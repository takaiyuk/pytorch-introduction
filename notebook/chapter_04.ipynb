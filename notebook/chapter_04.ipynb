{
 "cells": [
  {
   "cell_type": "code",
   "execution_count": 1,
   "metadata": {},
   "outputs": [
    {
     "name": "stdout",
     "output_type": "stream",
     "text": [
      "import torch\n",
      "from torch import nn, optim\n",
      "from torch.utils.data import Dataset, DataLoader, TensorDataset\n",
      "from tqdm import tqdm"
     ]
    }
   ],
   "source": [
    "! cat modules.py"
   ]
  },
  {
   "cell_type": "code",
   "execution_count": 2,
   "metadata": {},
   "outputs": [],
   "source": [
    "import os\n",
    "from torchvision.datasets import FashionMNIST\n",
    "from torchvision import transforms\n",
    "\n",
    "%matplotlib inline\n",
    "import matplotlib.pyplot as plt\n",
    "import seaborn as sns\n",
    "\n",
    "from modules import *"
   ]
  },
  {
   "cell_type": "code",
   "execution_count": 3,
   "metadata": {},
   "outputs": [],
   "source": [
    "sns.set()\n",
    "\n",
    "FASITON_MNIST_PATH = \"dataset/FashionMNIST\"\n",
    "DEVICE = \"cpu\"  # if GPU, add device=\"cuda:0\""
   ]
  },
  {
   "cell_type": "markdown",
   "metadata": {},
   "source": [
    "---"
   ]
  },
  {
   "cell_type": "markdown",
   "metadata": {},
   "source": [
    "## 4.2 CNNによる画像分類"
   ]
  },
  {
   "cell_type": "markdown",
   "metadata": {},
   "source": [
    "### 4.2.1 Fashion-MNIST"
   ]
  },
  {
   "cell_type": "code",
   "execution_count": 4,
   "metadata": {},
   "outputs": [],
   "source": [
    "# Fashion-MNIST のデータから DataLoader を作成\n",
    "def load_fasion_mnist(filepath, download=False):\n",
    "    \"\"\"\n",
    "    訓練用データの取得\n",
    "    そのままだとPIL（Python Imaging Library）の画像形式で Dataset を作ってしまうので、\n",
    "    transforms.ToTensor で Tensor に変換する\n",
    "    \"\"\"\n",
    "    if os.path.exists(\"dataset\") is False: \n",
    "        os.mkdir(\"dataset\")\n",
    "    fashion_mnist_train = FashionMNIST(filepath, train=True, download=download, transform=transforms.ToTensor())\n",
    "    fashion_mnist_test = FashionMNIST(filepath, train=False, download=download, transform=transforms.ToTensor())\n",
    "    return fashion_mnist_train, fashion_mnist_test"
   ]
  },
  {
   "cell_type": "code",
   "execution_count": 25,
   "metadata": {},
   "outputs": [],
   "source": [
    "# データをロード\n",
    "fashion_mnist_train, fashion_mnist_test = load_fasion_mnist(FASITON_MNIST_PATH, download=False)\n",
    "\n",
    "# バッチサイズが128の DataLoader をそれぞれ作成\n",
    "batch_size = 128\n",
    "train_loader = DataLoader(fashion_mnist_train, batch_size=batch_size, shuffle=True)\n",
    "test_loader = DataLoader(fashion_mnist_test, batch_size=batch_size, shuffle=True)"
   ]
  },
  {
   "cell_type": "markdown",
   "metadata": {},
   "source": [
    "### 4.2.2 CNN の構築と学習"
   ]
  },
  {
   "cell_type": "code",
   "execution_count": 5,
   "metadata": {},
   "outputs": [],
   "source": [
    "# 2層の畳み込み層と2層の MLP をつなげた CNN を作成\n",
    "\n",
    "\"\"\"\n",
    "(N, C, H, W) 形式を Tensor を (N, C*H*W) に引き伸ばす層\n",
    "畳み込み層の出力を MLP にわたす際に必要\n",
    "N: 値の行数, C: チャネル数, H: Height, W: Width\n",
    "\"\"\"\n",
    "class FlattenLayer(nn.Module):\n",
    "    def forward(self, x):\n",
    "        sizes = x.size()\n",
    "        return x.view(sizes[0], -1)\n",
    "    \n",
    "\"\"\"\n",
    "2層の畳み込み層\n",
    "\"\"\"\n",
    "conv_net = nn.Sequential(\n",
    "    nn.Conv2d(1, 32, 5),\n",
    "    nn.MaxPool2d(2),\n",
    "    nn.ReLU(),\n",
    "    nn.BatchNorm2d(32),\n",
    "    nn.Dropout2d(0.25),\n",
    "    nn.Conv2d(32, 64, 5),\n",
    "    nn.MaxPool2d(2),\n",
    "    nn.ReLU(),\n",
    "    nn.BatchNorm2d(64),\n",
    "    nn.Dropout2d(0.25),\n",
    "    FlattenLayer()\n",
    ")\n",
    "\n",
    "\"\"\"\n",
    "畳み込み層の出力をフラットにして、最後に2層の単純なMLPに接続する\n",
    "フラットにした場合の次元数は、直前がN次元の場合 各次元の積の値になる\n",
    "\"\"\"\n",
    "test_input = torch.ones(1, 1, 28, 28)  # ダミーデータ\n",
    "conv_output_size = conv_net(test_input).size()[-1]\n",
    "\n",
    "# 2層の NLP\n",
    "mlp = nn.Sequential(\n",
    "    nn.Linear(conv_output_size, 200),\n",
    "    nn.ReLU(),\n",
    "    nn.BatchNorm1d(200),\n",
    "    nn.Dropout(0.25),\n",
    "    nn.Linear(200, 10)\n",
    ")\n",
    "\n",
    "# 最終的な CNN\n",
    "net = nn.Sequential(\n",
    "    conv_net,\n",
    "    mlp\n",
    ")"
   ]
  },
  {
   "cell_type": "code",
   "execution_count": 6,
   "metadata": {},
   "outputs": [],
   "source": [
    "# 評価のヘルパー関数\n",
    "def eval_net(net, data_loader, device='cpu'):\n",
    "    # Dropout や BatchNorm を無効化\n",
    "    net.eval()  # ネットワークを評価モードにする\n",
    "    \n",
    "    ys = []\n",
    "    ypreds = []\n",
    "    for x, y in data_loader:\n",
    "        # toメソッドで計算を実行するデバイスに転送する\n",
    "        x = x.to(device)\n",
    "        y = y.to(device)\n",
    "        \n",
    "        # 確率が最大のクラスを予測（リスト2.14参照）\n",
    "        # ここでは forward(推論)の計算だけなので自動微分に\n",
    "        # 必要な処理は off にして余計な計算を省く\n",
    "        with torch.no_grad():\n",
    "            _, y_pred = net(x).max(1)\n",
    "        ys.append(y)\n",
    "        ypreds.append(y_pred)\n",
    "    \n",
    "    # ミニバッチごとの予測結果などを1つにまとめる\n",
    "    ys = torch.cat(ys)\n",
    "    ypreds = torch.cat(ypreds)\n",
    "    \n",
    "    # 予測精度を計算\n",
    "    acc = (ys == ypreds).float().sum() / len(ys)\n",
    "    return acc.item()"
   ]
  },
  {
   "cell_type": "code",
   "execution_count": 7,
   "metadata": {},
   "outputs": [],
   "source": [
    "# 訓練のヘルパー関数\n",
    "def train_net(net, train_loader, test_loader, \n",
    "              optimizer_cls=optim.Adam, loss_fn=nn.CrossEntropyLoss(), n_iter=10, device=\"cpu\"):\n",
    "    train_losses = []\n",
    "    train_acc = []\n",
    "    val_acc = []\n",
    "    optimizer = optimizer_cls(net.parameters())\n",
    "    \n",
    "    for epoch in range(n_iter):\n",
    "        running_loss = 0.0\n",
    "        net.train()  # ネットワークを訓練モードにする\n",
    "        n = 0\n",
    "        n_acc = 0\n",
    "        \n",
    "        # 非常に時間がかかるので tqdm を使用してプログレスモードを出す\n",
    "        for i, (xx, yy) in tqdm(enumerate(train_loader), total=len(train_loader)):\n",
    "            xx = xx.to(device)\n",
    "            h = net(xx)\n",
    "            loss = loss_fn(h, yy)\n",
    "            optimizer.zero_grad()  # 勾配の値を初期化\n",
    "            loss.backward()  # loss の w による微分を計算\n",
    "            optimizer.step()  # 勾配を更新する\n",
    "            running_loss += loss.item()\n",
    "            \n",
    "            n += len(xx)\n",
    "            _, y_pred = h.max(1)  # return (max_values, argmax)\n",
    "            n_acc += (yy == y_pred).float().sum().item()\n",
    "        \n",
    "        train_losses.append(running_loss / i)  # 収束確認のために loss を記録しておく\n",
    "        \n",
    "        # 訓練データの予測精度\n",
    "        train_acc.append(n_acc / n)\n",
    "        \n",
    "        # 検証データの予測精度\n",
    "        val_acc.append(eval_net(net, test_loader, device))\n",
    "        \n",
    "        # この epoch での結果を表示: リストに追加された最新の値を取り出す\n",
    "        print(epoch, train_losses[-1], train_acc[-1], val_acc[-1], flush=True)  # flush: pythonで print の出力結果を即時・強制表示させる（主にjupyter）\n",
    "        \n",
    "    return net, train_losses, train_acc, val_acc"
   ]
  },
  {
   "cell_type": "code",
   "execution_count": 46,
   "metadata": {},
   "outputs": [
    {
     "name": "stderr",
     "output_type": "stream",
     "text": [
      "100%|██████████| 469/469 [11:07<00:00,  1.36s/it]\n"
     ]
    },
    {
     "name": "stdout",
     "output_type": "stream",
     "text": [
      "0 0.4607887307548115 0.8410166666666666 0.8820000290870667\n"
     ]
    },
    {
     "name": "stderr",
     "output_type": "stream",
     "text": [
      "100%|██████████| 469/469 [19:20<00:00,  1.51s/it]\n"
     ]
    },
    {
     "name": "stdout",
     "output_type": "stream",
     "text": [
      "1 0.31289041777833915 0.8851666666666667 0.8977000117301941\n"
     ]
    }
   ],
   "source": [
    "# ネットワークの全パラメータを GPU に転送\n",
    "# net.to(\"cuda:0\")\n",
    "\n",
    "# 訓練を実行\n",
    "net, train_losses, train_acc, val_acc = train_net(net, train_loader, test_loader, n_iter=2, device=DEVICE)  # if GPU, add device=\"cuda:0\" to argument"
   ]
  },
  {
   "cell_type": "code",
   "execution_count": 49,
   "metadata": {},
   "outputs": [
    {
     "data": {
      "image/png": "[encoded data removed]",
      "text/plain": [
       "<Figure size 432x288 with 1 Axes>"
      ]
     },
     "metadata": {
      "needs_background": "light"
     },
     "output_type": "display_data"
    }
   ],
   "source": [
    "plt.plot(train_losses)\n",
    "plt.show()"
   ]
  },
  {
   "cell_type": "markdown",
   "metadata": {},
   "source": [
    "---"
   ]
  },
  {
   "cell_type": "markdown",
   "metadata": {},
   "source": [
    "## 4.3 転移学習"
   ]
  },
  {
   "cell_type": "markdown",
   "metadata": {},
   "source": [
    "### 4.3.1 データの準備"
   ]
  },
  {
   "cell_type": "raw",
   "metadata": {},
   "source": [
    "!wget https://github.com/lucidfrontier45/PyTorch-Book/raw/master/data/taco_and_burrito.tar.gz\n",
    "!tar -zxvf taco_and_burrito.tar.gz"
   ]
  },
  {
   "cell_type": "code",
   "execution_count": 8,
   "metadata": {},
   "outputs": [],
   "source": [
    "from torchvision.datasets import ImageFolder\n",
    "from torchvision import transforms"
   ]
  },
  {
   "cell_type": "code",
   "execution_count": 9,
   "metadata": {},
   "outputs": [],
   "source": [
    "def load_data(path, train_test):\n",
    "    if train_test == \"train\":\n",
    "        crop_style = transforms.RandomCrop(224)\n",
    "        shuffle = True\n",
    "    elif train_test == \"test\":\n",
    "        crop_style = transforms.CenterCrop(224)\n",
    "        shuffle = False\n",
    "    imgs = ImageFolder(path, transform=transforms.Compose([crop_style, transforms.ToTensor()]))\n",
    "    loader = DataLoader(imgs, batch_size=32, shuffle=shuffle)\n",
    "    return loader"
   ]
  },
  {
   "cell_type": "code",
   "execution_count": 53,
   "metadata": {},
   "outputs": [],
   "source": [
    "TRAIN_PATH = \"./dataset/taco_and_burrito/train/\"\n",
    "TEST_PATH = \"./dataset/taco_and_burrito/test/\"\n",
    "train_loader = load_data(TRAIN_PATH, train_test=\"train\")\n",
    "test_loader = load_data(TEST_PATH, train_test=\"test\")"
   ]
  },
  {
   "cell_type": "markdown",
   "metadata": {},
   "source": [
    "### 4.3.2 PyTorch で転移学習"
   ]
  },
  {
   "cell_type": "code",
   "execution_count": 10,
   "metadata": {},
   "outputs": [],
   "source": [
    "from torchvision import models"
   ]
  },
  {
   "cell_type": "code",
   "execution_count": 59,
   "metadata": {},
   "outputs": [
    {
     "name": "stderr",
     "output_type": "stream",
     "text": [
      "Downloading: \"https://download.pytorch.org/models/resnet18-5c106cde.pth\" to /Users/takayukiishikawa/.torch/models/resnet18-5c106cde.pth\n",
      "100%|██████████| 46827520/46827520 [00:10<00:00, 4525461.43it/s]\n"
     ]
    }
   ],
   "source": [
    "# 事前学習済みの resnet18 をロード\n",
    "net = models.resnet18(pretrained=True)\n",
    "\n",
    "# すべてのパラメータを微分対象外にする\n",
    "for p in net.parameters():\n",
    "    p.requires_grad = False\n",
    "    \n",
    "# 最後の線形層を付け替える\n",
    "fc_input_dim = net.fc.in_features\n",
    "net.fc = nn.Linear(fc_input_dim, 2)"
   ]
  },
  {
   "cell_type": "code",
   "execution_count": 65,
   "metadata": {},
   "outputs": [
    {
     "name": "stderr",
     "output_type": "stream",
     "text": [
      "100%|██████████| 23/23 [01:39<00:00,  4.21s/it]\n"
     ]
    },
    {
     "name": "stdout",
     "output_type": "stream",
     "text": [
      "0 0.47423957830125635 0.8089887640449438 0.8166666626930237\n"
     ]
    },
    {
     "name": "stderr",
     "output_type": "stream",
     "text": [
      "100%|██████████| 23/23 [02:01<00:00,  3.94s/it]\n"
     ]
    },
    {
     "name": "stdout",
     "output_type": "stream",
     "text": [
      "1 0.44614343074235047 0.8089887640449438 0.8666666746139526\n"
     ]
    },
    {
     "name": "stderr",
     "output_type": "stream",
     "text": [
      "100%|██████████| 23/23 [01:59<00:00,  4.54s/it]\n"
     ]
    },
    {
     "name": "stdout",
     "output_type": "stream",
     "text": [
      "2 0.4122938947244124 0.8384831460674157 0.8500000238418579\n"
     ]
    },
    {
     "name": "stderr",
     "output_type": "stream",
     "text": [
      "100%|██████████| 23/23 [01:31<00:00,  2.70s/it]\n"
     ]
    },
    {
     "name": "stdout",
     "output_type": "stream",
     "text": [
      "3 0.410941288552501 0.8300561797752809 0.8166666626930237\n"
     ]
    },
    {
     "name": "stderr",
     "output_type": "stream",
     "text": [
      "100%|██████████| 23/23 [01:30<00:00,  3.38s/it]\n"
     ]
    },
    {
     "name": "stdout",
     "output_type": "stream",
     "text": [
      "4 0.3767673115838658 0.8497191011235955 0.8666666746139526\n"
     ]
    },
    {
     "name": "stderr",
     "output_type": "stream",
     "text": [
      "100%|██████████| 23/23 [01:42<00:00,  2.97s/it]\n"
     ]
    },
    {
     "name": "stdout",
     "output_type": "stream",
     "text": [
      "5 0.4031787169250575 0.827247191011236 0.8666666746139526\n"
     ]
    },
    {
     "name": "stderr",
     "output_type": "stream",
     "text": [
      "100%|██████████| 23/23 [01:37<00:00,  4.20s/it]\n"
     ]
    },
    {
     "name": "stdout",
     "output_type": "stream",
     "text": [
      "6 0.39332754706794565 0.8286516853932584 0.7833333611488342\n"
     ]
    },
    {
     "name": "stderr",
     "output_type": "stream",
     "text": [
      "100%|██████████| 23/23 [01:43<00:00,  5.24s/it]\n"
     ]
    },
    {
     "name": "stdout",
     "output_type": "stream",
     "text": [
      "7 0.3626637709411708 0.8426966292134831 0.8166666626930237\n"
     ]
    },
    {
     "name": "stderr",
     "output_type": "stream",
     "text": [
      "100%|██████████| 23/23 [01:44<00:00,  3.19s/it]\n"
     ]
    },
    {
     "name": "stdout",
     "output_type": "stream",
     "text": [
      "8 0.35544049672105094 0.8525280898876404 0.8500000238418579\n"
     ]
    },
    {
     "name": "stderr",
     "output_type": "stream",
     "text": [
      "100%|██████████| 23/23 [01:22<00:00,  2.97s/it]\n"
     ]
    },
    {
     "name": "stdout",
     "output_type": "stream",
     "text": [
      "9 0.3189194845882329 0.8778089887640449 0.8666666746139526\n"
     ]
    },
    {
     "name": "stderr",
     "output_type": "stream",
     "text": [
      "100%|██████████| 23/23 [01:30<00:00,  2.90s/it]\n"
     ]
    },
    {
     "name": "stdout",
     "output_type": "stream",
     "text": [
      "10 0.34394983608614316 0.8665730337078652 0.8666666746139526\n"
     ]
    },
    {
     "name": "stderr",
     "output_type": "stream",
     "text": [
      "100%|██████████| 23/23 [01:19<00:00,  2.68s/it]\n"
     ]
    },
    {
     "name": "stdout",
     "output_type": "stream",
     "text": [
      "11 0.33698765290054405 0.8623595505617978 0.8333333134651184\n"
     ]
    },
    {
     "name": "stderr",
     "output_type": "stream",
     "text": [
      "100%|██████████| 23/23 [01:17<00:00,  2.75s/it]\n"
     ]
    },
    {
     "name": "stdout",
     "output_type": "stream",
     "text": [
      "12 0.33844502337954263 0.8553370786516854 0.8666666746139526\n"
     ]
    },
    {
     "name": "stderr",
     "output_type": "stream",
     "text": [
      "100%|██████████| 23/23 [01:37<00:00,  3.08s/it]\n"
     ]
    },
    {
     "name": "stdout",
     "output_type": "stream",
     "text": [
      "13 0.3499913547526706 0.8581460674157303 0.8833333253860474\n"
     ]
    },
    {
     "name": "stderr",
     "output_type": "stream",
     "text": [
      "100%|██████████| 23/23 [01:33<00:00,  3.29s/it]\n"
     ]
    },
    {
     "name": "stdout",
     "output_type": "stream",
     "text": [
      "14 0.3038768842816353 0.8862359550561798 0.8999999761581421\n"
     ]
    },
    {
     "name": "stderr",
     "output_type": "stream",
     "text": [
      "100%|██████████| 23/23 [01:40<00:00,  3.30s/it]\n"
     ]
    },
    {
     "name": "stdout",
     "output_type": "stream",
     "text": [
      "15 0.3095882467248223 0.8862359550561798 0.8833333253860474\n"
     ]
    },
    {
     "name": "stderr",
     "output_type": "stream",
     "text": [
      "100%|██████████| 23/23 [01:31<00:00,  3.40s/it]\n"
     ]
    },
    {
     "name": "stdout",
     "output_type": "stream",
     "text": [
      "16 0.30982310053977097 0.8679775280898876 0.8666666746139526\n"
     ]
    },
    {
     "name": "stderr",
     "output_type": "stream",
     "text": [
      "100%|██████████| 23/23 [01:31<00:00,  3.96s/it]\n"
     ]
    },
    {
     "name": "stdout",
     "output_type": "stream",
     "text": [
      "17 0.31040924245660956 0.8693820224719101 0.8833333253860474\n"
     ]
    },
    {
     "name": "stderr",
     "output_type": "stream",
     "text": [
      "100%|██████████| 23/23 [01:52<00:00,  3.71s/it]\n"
     ]
    },
    {
     "name": "stdout",
     "output_type": "stream",
     "text": [
      "18 0.31156552312048996 0.8834269662921348 0.8666666746139526\n"
     ]
    },
    {
     "name": "stderr",
     "output_type": "stream",
     "text": [
      "100%|██████████| 23/23 [02:44<00:00,  4.48s/it]\n"
     ]
    },
    {
     "name": "stdout",
     "output_type": "stream",
     "text": [
      "19 0.3176333782347766 0.8834269662921348 0.8500000238418579\n"
     ]
    }
   ],
   "source": [
    "net, train_losses, train_acc, val_acc = train_net(net, train_loader, test_loader, n_iter=10, device=DEVICE)  # if GPU, add device=\"cuda:0\" to argument"
   ]
  },
  {
   "cell_type": "code",
   "execution_count": 74,
   "metadata": {},
   "outputs": [
    {
     "data": {
      "image/png": "[encoded data removed]",
      "text/plain": [
       "<Figure size 1440x432 with 2 Axes>"
      ]
     },
     "metadata": {},
     "output_type": "display_data"
    }
   ],
   "source": [
    "fig, ax = plt.subplots(1, 2, figsize=(20, 6))\n",
    "sns.lineplot(list(range(len(train_losses))), train_losses, ax=ax[0], label=\"train\")\n",
    "sns.lineplot(list(range(len(train_acc))), train_acc, ax=ax[1], label=\"train\")\n",
    "sns.lineplot(list(range(len(val_acc))), val_acc, ax=ax[1], label=\"test\")\n",
    "ax[0].set_title(\"loss\")\n",
    "ax[1].set_title(\"accuracy\")\n",
    "plt.legend()\n",
    "plt.show()"
   ]
  },
  {
   "cell_type": "markdown",
   "metadata": {},
   "source": [
    "---"
   ]
  },
  {
   "cell_type": "markdown",
   "metadata": {},
   "source": [
    "## 4.4 CNN回帰モデルによる画像の高解像度化"
   ]
  },
  {
   "cell_type": "raw",
   "metadata": {},
   "source": [
    "!wget http://vis-www.cs.umass.edu/lfw/lfw-deepfunneled.tgz\n",
    "!tar xf lfw-deepfunneled.tgz\n",
    "!mkdir lfw-deepfunneled/train\n",
    "!mkdir lfw-deepfunneled/test\n",
    "!mv lfw-deepfunneled/[A-W]* lfw-deepfunneled/train\n",
    "!mv lfw-deepfunneled/[X-Z]* lfw-deepfunneled/test\n",
    "!mv lfw-deepfunneled dataset/lfw-deepfunneled"
   ]
  },
  {
   "cell_type": "code",
   "execution_count": 19,
   "metadata": {},
   "outputs": [],
   "source": [
    "from torch.utils.data import DataLoader\n",
    "from torchvision import transforms\n",
    "from torchvision.datasets import ImageFolder"
   ]
  },
  {
   "cell_type": "code",
   "execution_count": 12,
   "metadata": {},
   "outputs": [],
   "source": [
    "LFW_PATH_PREFIX = \"dataset/lfw-deepfunneled\"\n",
    "TRAIN_PATH = f\"{LFW_PATH_PREFIX}/train\"\n",
    "TEST_PATH = f\"{LFW_PATH_PREFIX}/test\""
   ]
  },
  {
   "cell_type": "code",
   "execution_count": 13,
   "metadata": {},
   "outputs": [],
   "source": [
    "class DownSizedPairImageFolder(ImageFolder):\n",
    "    def __init__(self, root, transform=None, large_size=128, small_size=32, **kwds):\n",
    "        super().__init__(root, transform=transform, **kwds)\n",
    "        self.large_resizer = transforms.Resize(large_size)\n",
    "        self.small_resizer = transforms.Resize(small_size)\n",
    "\n",
    "    def __getitem__(self, index):\n",
    "        path, _ = self.imgs[index]\n",
    "        img = self.loader(path)\n",
    "\n",
    "        # 読み取った画像を 128 * 128 ピクセルと 32 * 32 ピクセルにリサイズする\n",
    "        large_img = self.large_resizer(img)\n",
    "        small_img = self.small_resizer(img)\n",
    "\n",
    "        # その他の変換を適用する\n",
    "        if self.transform is not None:\n",
    "            large_img = self.transform(large_img)\n",
    "            small_img = self.transform(small_img)\n",
    "\n",
    "        # 32ピクセルの画像と128ピクセルの画像を返す\n",
    "        return small_img, large_img\n",
    "\n",
    "\n",
    "def create_data_loader(batch_size=32):\n",
    "    train_data = DownSizedPairImageFolder(TRAIN_PATH, transform=transforms.ToTensor())\n",
    "    test_data = DownSizedPairImageFolder(TEST_PATH, transform=transforms.ToTensor())\n",
    "\n",
    "    train_loader = DataLoader(\n",
    "        train_data, batch_size=batch_size, shuffle=True, num_workers=2\n",
    "    )\n",
    "    test_loader = DataLoader(\n",
    "        test_data, batch_size=batch_size, shuffle=False, num_workers=2\n",
    "    )\n",
    "    return train_loader, test_loader"
   ]
  },
  {
   "cell_type": "markdown",
   "metadata": {},
   "source": [
    "- stride=2 は畳み込み層のカーネルをずらすときに2ピクセルずつ動かす\n",
    "- Conv2d でこの設定をするとプーリング層の役割も兼ねるので MaxPool2d を入れなくても画像のサイズが 1/2 になる\n",
    "- ConvTransposed2d は畳み込みそうカーネルを行列に展開したときに通常の畳み込みのときの行列の転置になる\n",
    "    - Transposed Convolution を stride=2 で使用すると画像サイズがおおよそ2倍になる（入力と出力の画像のサイズがちょうど通常の畳込みと逆になる）\n",
    "- Conv2d を2つ、ConvTransposed2d を4つをつなげた CNN を用意したので、これで4倍に拡大される\n",
    "    - 畳み込み計算の都合上、微妙にサイズが2倍や1/2にズレてしまうので padding を入れて調整する（このあたりは実際にダミーのデータを入れて出力のサイズを確認しながら試行錯誤）"
   ]
  },
  {
   "cell_type": "code",
   "execution_count": 20,
   "metadata": {},
   "outputs": [],
   "source": [
    "net = nn.Sequential(\n",
    "    nn.Conv2d(3, 256, 4, stride=2, padding=1),\n",
    "    nn.ReLU(),\n",
    "    nn.BatchNorm2d(256),\n",
    "    nn.Conv2d(256, 512, 4, stride=2, padding=1),\n",
    "    nn.ReLU(),\n",
    "    nn.BatchNorm2d(512),\n",
    "    nn.ConvTranspose2d(512, 256, 4, stride=2, padding=1),\n",
    "    nn.ReLU(),\n",
    "    nn.BatchNorm2d(256),\n",
    "    nn.ConvTranspose2d(256, 128, 4, stride=2, padding=1),\n",
    "    nn.ReLU(),\n",
    "    nn.BatchNorm2d(128),\n",
    "    nn.ConvTranspose2d(128, 64, 4, stride=2, padding=1),\n",
    "    nn.ReLU(),\n",
    "    nn.BatchNorm2d(64),\n",
    "    nn.ConvTranspose2d(64, 3, 4, stride=2, padding=1)\n",
    ")"
   ]
  },
  {
   "cell_type": "markdown",
   "metadata": {},
   "source": [
    "画像や音声などの信号の復元問題では MSE ではなく、PSNR という指標をよく使用する"
   ]
  },
  {
   "cell_type": "code",
   "execution_count": 21,
   "metadata": {},
   "outputs": [],
   "source": [
    "import math\n",
    "def psnr(mse, max_v=1.0):\n",
    "    return 10 * math.log10(max_v ** 2 / mse)"
   ]
  },
  {
   "cell_type": "code",
   "execution_count": null,
   "metadata": {},
   "outputs": [],
   "source": [
    "def eval_net(net, data_loader, device=DEVICE):\n",
    "    net.eval()  # Dropout, BatchNorm を無効化\n",
    "    ys = []\n",
    "    ypreds = []\n",
    "    for x, y in data_loader:\n",
    "        x = x.to(device)\n",
    "        y = y.to(device)\n",
    "        with torch.no_grad():\n",
    "            y_pred = net(x)\n",
    "        ys.append(y)\n",
    "        ypreds.append(y_pred)\n",
    "    ys = torch.cat(ys)  # ミニバッチごとの予測結果などを一つにまとめる\n",
    "    ypreds = torch.cat(ypreds)  # 同上\n",
    "    score = nn.functional.mse_loss(ypreds, ys).item()  # .item() で値を取り出す\n",
    "    return score, ys, ypreds\n",
    "\n",
    "\n",
    "def train_net(\n",
    "    net,\n",
    "    train_loader,\n",
    "    test_loader,\n",
    "    optimizer_cls=optim.Adam,\n",
    "    loss_fn=nn.MSELoss(),\n",
    "    n_iter=10,\n",
    "    device=DEVICE,\n",
    "):\n",
    "    train_losses = []\n",
    "    return\n"
   ]
  }
 ],
 "metadata": {
  "kernelspec": {
   "display_name": "Python 3",
   "language": "python",
   "name": "python3"
  },
  "language_info": {
   "codemirror_mode": {
    "name": "ipython",
    "version": 3
   },
   "file_extension": ".py",
   "mimetype": "text/x-python",
   "name": "python",
   "nbconvert_exporter": "python",
   "pygments_lexer": "ipython3",
   "version": "3.6.7"
  }
 },
 "nbformat": 4,
 "nbformat_minor": 2
}
