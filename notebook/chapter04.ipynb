{
  "nbformat": 4,
  "nbformat_minor": 0,
  "metadata": {
    "colab": {
      "name": "chapter04.ipynb",
      "version": "0.3.2",
      "provenance": [],
      "collapsed_sections": []
    },
    "kernelspec": {
      "name": "python3",
      "display_name": "Python 3"
    },
    "accelerator": "GPU"
  },
  "cells": [
    {
      "metadata": {
        "id": "8x5yAeRKQP3T",
        "colab_type": "code",
        "outputId": "0f990172-9ece-4f39-853d-d6a0cd3522e7",
        "colab": {
          "base_uri": "https://localhost:8080/",
          "height": 476
        }
      },
      "cell_type": "code",
      "source": [
        "from tensorflow.python.client import device_lib\n",
        "device_lib.list_local_devices()"
      ],
      "execution_count": 1,
      "outputs": [
        {
          "output_type": "execute_result",
          "data": {
            "text/plain": [
              "[name: \"/device:CPU:0\"\n",
              " device_type: \"CPU\"\n",
              " memory_limit: 268435456\n",
              " locality {\n",
              " }\n",
              " incarnation: 15791153603142989769, name: \"/device:XLA_CPU:0\"\n",
              " device_type: \"XLA_CPU\"\n",
              " memory_limit: 17179869184\n",
              " locality {\n",
              " }\n",
              " incarnation: 1278738744114583527\n",
              " physical_device_desc: \"device: XLA_CPU device\", name: \"/device:XLA_GPU:0\"\n",
              " device_type: \"XLA_GPU\"\n",
              " memory_limit: 17179869184\n",
              " locality {\n",
              " }\n",
              " incarnation: 16969647342131062428\n",
              " physical_device_desc: \"device: XLA_GPU device\", name: \"/device:GPU:0\"\n",
              " device_type: \"GPU\"\n",
              " memory_limit: 11276946637\n",
              " locality {\n",
              "   bus_id: 1\n",
              "   links {\n",
              "   }\n",
              " }\n",
              " incarnation: 15511749360206926227\n",
              " physical_device_desc: \"device: 0, name: Tesla K80, pci bus id: 0000:00:04.0, compute capability: 3.7\"]"
            ]
          },
          "metadata": {
            "tags": []
          },
          "execution_count": 1
        }
      ]
    },
    {
      "metadata": {
        "id": "Z1WuVnMSQSIl",
        "colab_type": "code",
        "colab": {}
      },
      "cell_type": "code",
      "source": [
        "import torch\n",
        "from torch import nn, optim\n",
        "from torch.utils.data import Dataset, DataLoader, TensorDataset\n",
        "from tqdm import tqdm\n",
        "\n",
        "%matplotlib inline\n",
        "import matplotlib.pyplot as plt\n",
        "import seaborn as sns; sns.set()"
      ],
      "execution_count": 0,
      "outputs": []
    },
    {
      "metadata": {
        "id": "cOSSCzaaQf2Y",
        "colab_type": "text"
      },
      "cell_type": "markdown",
      "source": [
        "## 4.2 CNNによる画像分類\n",
        "\n",
        "画像データは （C, H, W) の形で保持され、H, W は画像の縦と横のサイズ、C は色数あるいはチャンネルとも呼ばれる。  \n",
        "もともとC=1, C=3だが、最終的には C は最後の畳み込み層のカーネル（フィルター）数になる。  \n",
        "この処理によって得られた特徴量を MLP に入れて最終的なクラスの判別を行うという流れになる。  \n",
        "畳み込みの後に位置の感度を鈍くするプーリングを挟むことや、Dropout や Batch Normalization とともに使用することも多々ある。"
      ]
    },
    {
      "metadata": {
        "id": "81IoUGDoQiaE",
        "colab_type": "text"
      },
      "cell_type": "markdown",
      "source": [
        "### 4.2.1 Fashion-MNIST\n",
        "\n",
        "Fashion-MNIST は10カテゴリの洋服の画像データセットであり、28 × 28 のモノクロ画像である。  \n",
        "PyTorch の拡張である torchvision というライブラリを使用することで簡単に Fashion-MNIST のデータをダウンロードし、 PyTorch の Dataset に変換し、 DataLoader を作成することが出来る。  \n",
        "\n",
        "- https://github.com/zalandoresearch/fashion-mnist"
      ]
    },
    {
      "metadata": {
        "id": "unSk0iY5QTYf",
        "colab_type": "code",
        "outputId": "ea4d5960-2daf-4fe8-9503-db05d454b52f",
        "colab": {
          "base_uri": "https://localhost:8080/",
          "height": 119
        }
      },
      "cell_type": "code",
      "source": [
        "## Fashion-MNIST のデータから DataLoader を作成\n",
        "from torchvision.datasets import FashionMNIST\n",
        "from torchvision import transforms\n",
        "\n",
        "# 訓練用データを取得\n",
        "# そのままだと PIL (Python Imaging Library) の画像形式で Dataset を作ってしまうので、transforms.ToTensor で Tensor に変換する\n",
        "fashion_mnist_train = FashionMNIST(\"dataset/FashionMNIST\", \n",
        "                                   train=True, download=True, transform=transforms.ToTensor())\n",
        "\n",
        "# 検証用データの取得\n",
        "fashion_mnist_test = FashionMNIST(\"dataset/FashionMNIST\", \n",
        "                                  train=False, download=True, transform=transforms.ToTensor())\n",
        "\n",
        "# バッチサイズが128の DataLoader をそれぞれ作成\n",
        "batch_size = 128\n",
        "train_loader = DataLoader(fashion_mnist_train, batch_size=batch_size, shuffle=True)\n",
        "test_loader = DataLoader(fashion_mnist_test, batch_size=batch_size, shuffle=True)"
      ],
      "execution_count": 3,
      "outputs": [
        {
          "output_type": "stream",
          "text": [
            "Downloading http://fashion-mnist.s3-website.eu-central-1.amazonaws.com/train-images-idx3-ubyte.gz\n",
            "Downloading http://fashion-mnist.s3-website.eu-central-1.amazonaws.com/train-labels-idx1-ubyte.gz\n",
            "Downloading http://fashion-mnist.s3-website.eu-central-1.amazonaws.com/t10k-images-idx3-ubyte.gz\n",
            "Downloading http://fashion-mnist.s3-website.eu-central-1.amazonaws.com/t10k-labels-idx1-ubyte.gz\n",
            "Processing...\n",
            "Done!\n"
          ],
          "name": "stdout"
        }
      ]
    },
    {
      "metadata": {
        "id": "0F3rmgEoTDXC",
        "colab_type": "text"
      },
      "cell_type": "markdown",
      "source": [
        "### 4.2.2 CNN の構築と学習\n",
        "\n",
        "PyTorch には画像の畳込みを行う nn.Conv2d やプーリングを行う nn.MaxPool2d などが用意されており、すぐに CNN を構築できる。以下では、シンプルな2層の畳込み層と2層の MLP をつなげた CNN を作成している。  \n",
        "PyTorch では nn.Linear は入力の次元を必ず指定しないといけないが、nn.Conv2d や nn.MaxPool2d でどのように画像のサイズが変わるのか、慣れないうちは計算するのが大変なので torch.ones 関数で作成したダミーでたーを入れて実際に計算する。"
      ]
    },
    {
      "metadata": {
        "id": "oRpjG8mOSxUR",
        "colab_type": "code",
        "colab": {}
      },
      "cell_type": "code",
      "source": [
        "## 2層の畳み込み層と2層の MLP をつなげた CNN を作成\n",
        "\n",
        "\"\"\"\n",
        "(N, C, H, W) 形式を Tensor を (N, C*H*W) に引き伸ばす層\n",
        "畳み込み層の出力を MLP にわたす際に必要\n",
        "\"\"\"\n",
        "class FlattenLayer(nn.Module):\n",
        "    def forward(self, x):\n",
        "        sizes = x.size()\n",
        "        return x.view(sizes[0], -1)\n",
        "    \n",
        "\"\"\"\n",
        "5×5のカーネルを使用し最初に32個、次に64個のチャンネルを作成する\n",
        "BatchNorm2d は画像形式用の Batch Normalization\n",
        "Dropout2d は画像形式用の Dropout\n",
        "最後に FlattenLayer を挟む\n",
        "\"\"\"\n",
        "conv_net = nn.Sequential(\n",
        "    nn.Conv2d(1, 32, 5),\n",
        "    nn.MaxPool2d(2),\n",
        "    nn.ReLU(),\n",
        "    nn.BatchNorm2d(32),\n",
        "    nn.Dropout2d(0.25),\n",
        "    nn.Conv2d(32, 64, 5),\n",
        "    nn.MaxPool2d(2),\n",
        "    nn.ReLU(),\n",
        "    nn.BatchNorm2d(64),\n",
        "    nn.Dropout2d(0.25),\n",
        "    FlattenLayer()\n",
        ")\n",
        "\n",
        "\"\"\"\n",
        "畳み込みによって最終的にどのようなサイズになっているかを、実際にダミーデータを入れてみて確認する\n",
        "\"\"\"\n",
        "test_input = torch.ones(1, 1, 28, 28)\n",
        "conv_output_size = conv_net(test_input).size()[-1]\n",
        "\n",
        "# 2層の NLP\n",
        "mlp = nn.Sequential(\n",
        "    nn.Linear(conv_output_size, 200),\n",
        "    nn.ReLU(),\n",
        "    nn.BatchNorm1d(200),\n",
        "    nn.Dropout(0.25),\n",
        "    nn.Linear(200, 10)\n",
        ")\n",
        "\n",
        "# 最終的な CNN\n",
        "net = nn.Sequential(\n",
        "    conv_net,\n",
        "    mlp\n",
        ")"
      ],
      "execution_count": 0,
      "outputs": []
    },
    {
      "metadata": {
        "id": "Txwd40AAUQLq",
        "colab_type": "text"
      },
      "cell_type": "markdown",
      "source": [
        "次に評価と訓練のヘルパー関数を作成する"
      ]
    },
    {
      "metadata": {
        "id": "IZ93Ymp5TcfI",
        "colab_type": "code",
        "colab": {}
      },
      "cell_type": "code",
      "source": [
        "# 評価のヘルパー関数\n",
        "def eval_net(net, data_loader, device='cpu'):\n",
        "    # Dropout や BatchNorm を無効化\n",
        "    net.eval()  # ネットワークを評価モードにする\n",
        "    ys = []\n",
        "    ypreds = []\n",
        "    for x, y in data_loader:\n",
        "        # toメソッドで計算を実行するデバイスに転送する\n",
        "        x = x.to(device)\n",
        "        y = y.to(device)\n",
        "        \"\"\"確率が最大のクラスを予測（リスト2.14参照）\n",
        "        ここでは forward(推論)の計算だけなので自動微分に\n",
        "        必要な処理は off にして余計な計算を省く\n",
        "        \"\"\"\n",
        "        with torch.no_grad():\n",
        "            _, y_pred = net(x).max(1)\n",
        "        ys.append(y)\n",
        "        ypreds.append(y_pred)\n",
        "    # ミニバッチごとの予測結果などを1つにまとめる\n",
        "    ys = torch.cat(ys)\n",
        "    ypreds = torch.cat(ypreds)\n",
        "    # 予測精度を計算\n",
        "    acc = (ys == ypreds).float().sum() / len(ys)\n",
        "    return acc.item()"
      ],
      "execution_count": 0,
      "outputs": []
    },
    {
      "metadata": {
        "id": "o5Jq4ZOoTd2X",
        "colab_type": "code",
        "colab": {}
      },
      "cell_type": "code",
      "source": [
        "# 訓練のヘルパー関数\n",
        "def train_net(net, train_loader, test_loader, \n",
        "              optimizer_cls=optim.Adam, loss_fn=nn.CrossEntropyLoss(), n_iter=10, device=\"cpu\"):\n",
        "    train_losses = []\n",
        "    train_acc = []\n",
        "    val_acc = []\n",
        "    optimizer = optimizer_cls(net.parameters())\n",
        "    for epoch in range(n_iter):\n",
        "        running_loss = 0.0\n",
        "        net.train()  # ネットワークを訓練モードにする\n",
        "        n = 0\n",
        "        n_acc = 0\n",
        "        # 非常に時間がかかるので tqdm を使用してプログレスモードを出す\n",
        "        for i, (xx, yy) in tqdm(enumerate(train_loader), total=len(train_loader)):\n",
        "            xx = xx.to(device)\n",
        "            yy = yy.to(device)\n",
        "            h = net(xx)\n",
        "            loss = loss_fn(h, yy)\n",
        "            optimizer.zero_grad()\n",
        "            loss.backward()\n",
        "            optimizer.step()\n",
        "            running_loss += loss.item()\n",
        "            n += len(xx)\n",
        "            _, y_pred = h.max(1)\n",
        "            n_acc += (yy == y_pred).float().sum().item()\n",
        "        train_losses.append(running_loss / i)\n",
        "        # 訓練データの予測精度\n",
        "        train_acc.append(n_acc / n)\n",
        "        # 検証データの予測精度\n",
        "        val_acc.append(eval_net(net, test_loader, device))\n",
        "        # この epoch での結果を表示: リストに追加された最新の値を取り出す\n",
        "        print(epoch, train_losses[-1], train_acc[-1], val_acc[-1], flush=True)  # pythonで print の出力結果を即時・強制表示させる（主にjupyter）"
      ],
      "execution_count": 0,
      "outputs": []
    },
    {
      "metadata": {
        "id": "Gimt9twlTfFT",
        "colab_type": "code",
        "outputId": "02491ffe-a358-4f0e-bbcc-8a5d1645ee7f",
        "colab": {
          "base_uri": "https://localhost:8080/",
          "height": 697
        }
      },
      "cell_type": "code",
      "source": [
        "# ネットワークの全パラメータを GPU に転送\n",
        "net.to(\"cuda:0\")\n",
        "\n",
        "# 訓練を実行\n",
        "train_net(net, train_loader, test_loader, n_iter=20, device=\"cuda:0\")  # if GPU, add device=\"cuda:0\" to argument"
      ],
      "execution_count": 14,
      "outputs": [
        {
          "output_type": "stream",
          "text": [
            "100%|██████████| 469/469 [00:10<00:00, 43.57it/s]\n"
          ],
          "name": "stderr"
        },
        {
          "output_type": "stream",
          "text": [
            "0 0.4557824441128307 0.8418833333333333 0.8757999539375305\n"
          ],
          "name": "stdout"
        },
        {
          "output_type": "stream",
          "text": [
            "100%|██████████| 469/469 [00:10<00:00, 43.43it/s]\n"
          ],
          "name": "stderr"
        },
        {
          "output_type": "stream",
          "text": [
            "1 0.31726221319956655 0.8840166666666667 0.8922999501228333\n"
          ],
          "name": "stdout"
        },
        {
          "output_type": "stream",
          "text": [
            "100%|██████████| 469/469 [00:10<00:00, 43.37it/s]\n"
          ],
          "name": "stderr"
        },
        {
          "output_type": "stream",
          "text": [
            "2 0.2832367192221503 0.8972166666666667 0.898099958896637\n"
          ],
          "name": "stdout"
        },
        {
          "output_type": "stream",
          "text": [
            "100%|██████████| 469/469 [00:10<00:00, 44.34it/s]\n"
          ],
          "name": "stderr"
        },
        {
          "output_type": "stream",
          "text": [
            "3 0.2621288763948231 0.90405 0.902899980545044\n"
          ],
          "name": "stdout"
        },
        {
          "output_type": "stream",
          "text": [
            "100%|██████████| 469/469 [00:10<00:00, 43.46it/s]\n"
          ],
          "name": "stderr"
        },
        {
          "output_type": "stream",
          "text": [
            "4 0.24436964245879242 0.9092333333333333 0.9068999886512756\n"
          ],
          "name": "stdout"
        },
        {
          "output_type": "stream",
          "text": [
            "100%|██████████| 469/469 [00:10<00:00, 44.06it/s]\n"
          ],
          "name": "stderr"
        },
        {
          "output_type": "stream",
          "text": [
            "5 0.22965878050806177 0.9147666666666666 0.9107999801635742\n"
          ],
          "name": "stdout"
        },
        {
          "output_type": "stream",
          "text": [
            "100%|██████████| 469/469 [00:10<00:00, 43.49it/s]\n"
          ],
          "name": "stderr"
        },
        {
          "output_type": "stream",
          "text": [
            "6 0.21860429464688158 0.9189166666666667 0.9104999899864197\n"
          ],
          "name": "stdout"
        },
        {
          "output_type": "stream",
          "text": [
            "100%|██████████| 469/469 [00:10<00:00, 43.61it/s]\n"
          ],
          "name": "stderr"
        },
        {
          "output_type": "stream",
          "text": [
            "7 0.2144771316844938 0.92085 0.9167999625205994\n"
          ],
          "name": "stdout"
        },
        {
          "output_type": "stream",
          "text": [
            "100%|██████████| 469/469 [00:10<00:00, 43.34it/s]\n"
          ],
          "name": "stderr"
        },
        {
          "output_type": "stream",
          "text": [
            "8 0.20420551608897683 0.9252833333333333 0.9164999723434448\n"
          ],
          "name": "stdout"
        },
        {
          "output_type": "stream",
          "text": [
            "100%|██████████| 469/469 [00:10<00:00, 43.46it/s]\n"
          ],
          "name": "stderr"
        },
        {
          "output_type": "stream",
          "text": [
            "9 0.19855982256241334 0.9248166666666666 0.91239994764328\n"
          ],
          "name": "stdout"
        },
        {
          "output_type": "stream",
          "text": [
            "100%|██████████| 469/469 [00:10<00:00, 42.74it/s]\n"
          ],
          "name": "stderr"
        },
        {
          "output_type": "stream",
          "text": [
            "10 0.19355238752805778 0.9280666666666667 0.9159999489784241\n"
          ],
          "name": "stdout"
        },
        {
          "output_type": "stream",
          "text": [
            "100%|██████████| 469/469 [00:11<00:00, 41.82it/s]\n"
          ],
          "name": "stderr"
        },
        {
          "output_type": "stream",
          "text": [
            "11 0.1852620575003899 0.931 0.920199990272522\n"
          ],
          "name": "stdout"
        },
        {
          "output_type": "stream",
          "text": [
            "100%|██████████| 469/469 [00:10<00:00, 43.17it/s]\n"
          ],
          "name": "stderr"
        },
        {
          "output_type": "stream",
          "text": [
            "12 0.1821073756003991 0.9324166666666667 0.9192999601364136\n"
          ],
          "name": "stdout"
        },
        {
          "output_type": "stream",
          "text": [
            "100%|██████████| 469/469 [00:11<00:00, 42.44it/s]\n"
          ],
          "name": "stderr"
        },
        {
          "output_type": "stream",
          "text": [
            "13 0.17633022733319265 0.9341 0.9080999493598938\n"
          ],
          "name": "stdout"
        },
        {
          "output_type": "stream",
          "text": [
            "100%|██████████| 469/469 [00:10<00:00, 43.73it/s]\n"
          ],
          "name": "stderr"
        },
        {
          "output_type": "stream",
          "text": [
            "14 0.1702161505818367 0.9365666666666667 0.9127999544143677\n"
          ],
          "name": "stdout"
        },
        {
          "output_type": "stream",
          "text": [
            "100%|██████████| 469/469 [00:10<00:00, 43.37it/s]\n"
          ],
          "name": "stderr"
        },
        {
          "output_type": "stream",
          "text": [
            "15 0.1680360142237101 0.9374166666666667 0.9213999509811401\n"
          ],
          "name": "stdout"
        },
        {
          "output_type": "stream",
          "text": [
            "100%|██████████| 469/469 [00:10<00:00, 43.68it/s]\n"
          ],
          "name": "stderr"
        },
        {
          "output_type": "stream",
          "text": [
            "16 0.1638129078424894 0.93865 0.92249995470047\n"
          ],
          "name": "stdout"
        },
        {
          "output_type": "stream",
          "text": [
            "100%|██████████| 469/469 [00:11<00:00, 41.39it/s]\n"
          ],
          "name": "stderr"
        },
        {
          "output_type": "stream",
          "text": [
            "17 0.15858463408887133 0.9395 0.9222999811172485\n"
          ],
          "name": "stdout"
        },
        {
          "output_type": "stream",
          "text": [
            "100%|██████████| 469/469 [00:11<00:00, 40.98it/s]\n"
          ],
          "name": "stderr"
        },
        {
          "output_type": "stream",
          "text": [
            "18 0.15470239636289257 0.9429333333333333 0.9192999601364136\n"
          ],
          "name": "stdout"
        },
        {
          "output_type": "stream",
          "text": [
            "100%|██████████| 469/469 [00:11<00:00, 40.97it/s]\n"
          ],
          "name": "stderr"
        },
        {
          "output_type": "stream",
          "text": [
            "19 0.15516457042824 0.9419666666666666 0.9199999570846558\n"
          ],
          "name": "stdout"
        }
      ]
    },
    {
      "metadata": {
        "id": "VkVDDGW5VjCL",
        "colab_type": "text"
      },
      "cell_type": "markdown",
      "source": [
        "## 4.3 転移学習\n",
        "\n",
        "この節では**転移学習**という NN に見られる非常にユニークかつ有用な学習法について説明する。転移学習を用いるとあるタスクのために訓練済みのモデルを他のタスクにも流用でき、大量に学習データがなくても複雑なネットワークを訓練できるようになる。  \n",
        "\n",
        ">- **VGG**: Oxford Univ. の VGG グループによって提案されたモデルで、3×3のように小さなカーネルを多数重ねることでモデルで表現呂姫雨を高めているという特徴を持つ。\n",
        "- **Inception**: 別名 GoogleNet。Inception モジュールという疎な CNN を近似する構造を取り込み、総パラメータを減らしつつも深層化に成功したモデルである。  \n",
        "- **ResNet**: Residual モジュールというショートカット構造を有し、前の層の入力もそのまま次の層に渡すことで勾配がより伝わりやすく、深いネットワークでも効率よく訓練できるように改良されたネットワーク構造のことである。\n",
        "\n",
        "**転移学習（Transfer Learning）**とはあるタスク（ドメインとも）で得られたモデルをうまく他のタスクに転用する技術の総称である。こと画像認識の NN においては、事前に学習したネットワークの他の層のパラメータを全て固定し、最後の出力の線形層のみ自分のデータについて学習し直すとうまくいくことが経験的に知られている。特に ImageNet という大規模の画像認識データセットで事前に学習した ResNet などの様々なネットワークのパラメータが公開されており、転移学習に最適である。転移学習がうまくいく理由として、CNN の下位の層で画像を認識するのに必要となる一般的な特徴をうまく抽出できていると解釈されている。"
      ]
    },
    {
      "metadata": {
        "id": "z0UyZRr1Xj91",
        "colab_type": "text"
      },
      "cell_type": "markdown",
      "source": [
        "### 4.3.1 データの準備"
      ]
    },
    {
      "metadata": {
        "id": "nVsgrb-1VkoW",
        "colab_type": "code",
        "colab": {
          "base_uri": "https://localhost:8080/",
          "height": 13532
        },
        "outputId": "5f5581fa-a6ce-4d57-fcb6-480df77ee67f"
      },
      "cell_type": "code",
      "source": [
        "# ! wget https://github.com/lucidfrontier45/PyTorch-Book/raw/master/data/taco_and_burrito.tar.gz\n",
        "# ! tar -zxvf taco_and_burrito.tar.gz"
      ],
      "execution_count": 15,
      "outputs": [
        {
          "output_type": "stream",
          "text": [
            "--2019-02-11 11:44:40--  https://github.com/lucidfrontier45/PyTorch-Book/raw/master/data/taco_and_burrito.tar.gz\n",
            "Resolving github.com (github.com)... 192.30.253.113, 192.30.253.112\n",
            "Connecting to github.com (github.com)|192.30.253.113|:443... connected.\n",
            "HTTP request sent, awaiting response... 302 Found\n",
            "Location: https://raw.githubusercontent.com/lucidfrontier45/PyTorch-Book/master/data/taco_and_burrito.tar.gz [following]\n",
            "--2019-02-11 11:44:40--  https://raw.githubusercontent.com/lucidfrontier45/PyTorch-Book/master/data/taco_and_burrito.tar.gz\n",
            "Resolving raw.githubusercontent.com (raw.githubusercontent.com)... 151.101.0.133, 151.101.64.133, 151.101.128.133, ...\n",
            "Connecting to raw.githubusercontent.com (raw.githubusercontent.com)|151.101.0.133|:443... connected.\n",
            "HTTP request sent, awaiting response... 200 OK\n",
            "Length: 15292798 (15M) [application/octet-stream]\n",
            "Saving to: ‘taco_and_burrito.tar.gz’\n",
            "\n",
            "taco_and_burrito.ta 100%[===================>]  14.58M  --.-KB/s    in 0.1s    \n",
            "\n",
            "2019-02-11 11:44:41 (114 MB/s) - ‘taco_and_burrito.tar.gz’ saved [15292798/15292798]\n",
            "\n",
            "taco_and_burrito/\n",
            "taco_and_burrito/test/\n",
            "taco_and_burrito/test/burrito/\n",
            "taco_and_burrito/test/burrito/363.jpg\n",
            "taco_and_burrito/test/burrito/372.jpg\n",
            "taco_and_burrito/test/burrito/362.jpg\n",
            "taco_and_burrito/test/burrito/386.jpg\n",
            "taco_and_burrito/test/burrito/379.jpg\n",
            "taco_and_burrito/test/burrito/367.jpg\n",
            "taco_and_burrito/test/burrito/361.jpg\n",
            "taco_and_burrito/test/burrito/384.jpg\n",
            "taco_and_burrito/test/burrito/377.jpg\n",
            "taco_and_burrito/test/burrito/365.jpg\n",
            "taco_and_burrito/test/burrito/368.jpg\n",
            "taco_and_burrito/test/burrito/374.jpg\n",
            "taco_and_burrito/test/burrito/388.jpg\n",
            "taco_and_burrito/test/burrito/378.jpg\n",
            "taco_and_burrito/test/burrito/380.jpg\n",
            "taco_and_burrito/test/burrito/370.jpg\n",
            "taco_and_burrito/test/burrito/364.jpg\n",
            "taco_and_burrito/test/burrito/385.jpg\n",
            "taco_and_burrito/test/burrito/381.jpg\n",
            "taco_and_burrito/test/burrito/383.jpg\n",
            "taco_and_burrito/test/burrito/373.jpg\n",
            "taco_and_burrito/test/burrito/366.jpg\n",
            "taco_and_burrito/test/burrito/389.jpg\n",
            "taco_and_burrito/test/burrito/376.jpg\n",
            "taco_and_burrito/test/burrito/360.jpg\n",
            "taco_and_burrito/test/burrito/371.jpg\n",
            "taco_and_burrito/test/burrito/387.jpg\n",
            "taco_and_burrito/test/burrito/382.jpg\n",
            "taco_and_burrito/test/burrito/375.jpg\n",
            "taco_and_burrito/test/burrito/369.jpg\n",
            "taco_and_burrito/test/taco/\n",
            "taco_and_burrito/test/taco/363.jpg\n",
            "taco_and_burrito/test/taco/372.jpg\n",
            "taco_and_burrito/test/taco/362.jpg\n",
            "taco_and_burrito/test/taco/386.jpg\n",
            "taco_and_burrito/test/taco/379.jpg\n",
            "taco_and_burrito/test/taco/367.jpg\n",
            "taco_and_burrito/test/taco/361.jpg\n",
            "taco_and_burrito/test/taco/384.jpg\n",
            "taco_and_burrito/test/taco/377.jpg\n",
            "taco_and_burrito/test/taco/365.jpg\n",
            "taco_and_burrito/test/taco/368.jpg\n",
            "taco_and_burrito/test/taco/374.jpg\n",
            "taco_and_burrito/test/taco/388.jpg\n",
            "taco_and_burrito/test/taco/378.jpg\n",
            "taco_and_burrito/test/taco/390.jpg\n",
            "taco_and_burrito/test/taco/380.jpg\n",
            "taco_and_burrito/test/taco/370.jpg\n",
            "taco_and_burrito/test/taco/364.jpg\n",
            "taco_and_burrito/test/taco/385.jpg\n",
            "taco_and_burrito/test/taco/381.jpg\n",
            "taco_and_burrito/test/taco/383.jpg\n",
            "taco_and_burrito/test/taco/373.jpg\n",
            "taco_and_burrito/test/taco/366.jpg\n",
            "taco_and_burrito/test/taco/376.jpg\n",
            "taco_and_burrito/test/taco/360.jpg\n",
            "taco_and_burrito/test/taco/371.jpg\n",
            "taco_and_burrito/test/taco/387.jpg\n",
            "taco_and_burrito/test/taco/382.jpg\n",
            "taco_and_burrito/test/taco/375.jpg\n",
            "taco_and_burrito/test/taco/369.jpg\n",
            "taco_and_burrito/train/\n",
            "taco_and_burrito/train/burrito/\n",
            "taco_and_burrito/train/burrito/174.jpg\n",
            "taco_and_burrito/train/burrito/304.jpg\n",
            "taco_and_burrito/train/burrito/279.jpg\n",
            "taco_and_burrito/train/burrito/016.jpg\n",
            "taco_and_burrito/train/burrito/351.jpg\n",
            "taco_and_burrito/train/burrito/356.jpg\n",
            "taco_and_burrito/train/burrito/247.jpg\n",
            "taco_and_burrito/train/burrito/331.jpg\n",
            "taco_and_burrito/train/burrito/024.jpg\n",
            "taco_and_burrito/train/burrito/320.jpg\n",
            "taco_and_burrito/train/burrito/099.jpg\n",
            "taco_and_burrito/train/burrito/168.jpg\n",
            "taco_and_burrito/train/burrito/343.jpg\n",
            "taco_and_burrito/train/burrito/335.jpg\n",
            "taco_and_burrito/train/burrito/264.jpg\n",
            "taco_and_burrito/train/burrito/111.jpg\n",
            "taco_and_burrito/train/burrito/181.jpg\n",
            "taco_and_burrito/train/burrito/092.jpg\n",
            "taco_and_burrito/train/burrito/046.jpg\n",
            "taco_and_burrito/train/burrito/262.jpg\n",
            "taco_and_burrito/train/burrito/254.jpg\n",
            "taco_and_burrito/train/burrito/160.jpg\n",
            "taco_and_burrito/train/burrito/114.jpg\n",
            "taco_and_burrito/train/burrito/194.jpg\n",
            "taco_and_burrito/train/burrito/097.jpg\n",
            "taco_and_burrito/train/burrito/183.jpg\n",
            "taco_and_burrito/train/burrito/088.jpg\n",
            "taco_and_burrito/train/burrito/164.jpg\n",
            "taco_and_burrito/train/burrito/150.jpg\n",
            "taco_and_burrito/train/burrito/328.jpg\n",
            "taco_and_burrito/train/burrito/297.jpg\n",
            "taco_and_burrito/train/burrito/317.jpg\n",
            "taco_and_burrito/train/burrito/167.jpg\n",
            "taco_and_burrito/train/burrito/222.jpg\n",
            "taco_and_burrito/train/burrito/079.jpg\n",
            "taco_and_burrito/train/burrito/229.jpg\n",
            "taco_and_burrito/train/burrito/308.jpg\n",
            "taco_and_burrito/train/burrito/177.jpg\n",
            "taco_and_burrito/train/burrito/006.jpg\n",
            "taco_and_burrito/train/burrito/258.jpg\n",
            "taco_and_burrito/train/burrito/120.jpg\n",
            "taco_and_burrito/train/burrito/214.jpg\n",
            "taco_and_burrito/train/burrito/013.jpg\n",
            "taco_and_burrito/train/burrito/125.jpg\n",
            "taco_and_burrito/train/burrito/096.jpg\n",
            "taco_and_burrito/train/burrito/103.jpg\n",
            "taco_and_burrito/train/burrito/202.jpg\n",
            "taco_and_burrito/train/burrito/142.jpg\n",
            "taco_and_burrito/train/burrito/086.jpg\n",
            "taco_and_burrito/train/burrito/107.jpg\n",
            "taco_and_burrito/train/burrito/321.jpg\n",
            "taco_and_burrito/train/burrito/151.jpg\n",
            "taco_and_burrito/train/burrito/037.jpg\n",
            "taco_and_burrito/train/burrito/093.jpg\n",
            "taco_and_burrito/train/burrito/135.jpg\n",
            "taco_and_burrito/train/burrito/294.jpg\n",
            "taco_and_burrito/train/burrito/165.jpg\n",
            "taco_and_burrito/train/burrito/287.jpg\n",
            "taco_and_burrito/train/burrito/057.jpg\n",
            "taco_and_burrito/train/burrito/139.jpg\n",
            "taco_and_burrito/train/burrito/059.jpg\n",
            "taco_and_burrito/train/burrito/159.jpg\n",
            "taco_and_burrito/train/burrito/195.jpg\n",
            "taco_and_burrito/train/burrito/301.jpg\n",
            "taco_and_burrito/train/burrito/349.jpg\n",
            "taco_and_burrito/train/burrito/228.jpg\n",
            "taco_and_burrito/train/burrito/285.jpg\n",
            "taco_and_burrito/train/burrito/010.jpg\n",
            "taco_and_burrito/train/burrito/333.jpg\n",
            "taco_and_burrito/train/burrito/058.jpg\n",
            "taco_and_burrito/train/burrito/146.jpg\n",
            "taco_and_burrito/train/burrito/233.jpg\n",
            "taco_and_burrito/train/burrito/054.jpg\n",
            "taco_and_burrito/train/burrito/186.jpg\n",
            "taco_and_burrito/train/burrito/341.jpg\n",
            "taco_and_burrito/train/burrito/359.jpg\n",
            "taco_and_burrito/train/burrito/340.jpg\n",
            "taco_and_burrito/train/burrito/236.jpg\n",
            "taco_and_burrito/train/burrito/136.jpg\n",
            "taco_and_burrito/train/burrito/039.jpg\n",
            "taco_and_burrito/train/burrito/023.jpg\n",
            "taco_and_burrito/train/burrito/284.jpg\n",
            "taco_and_burrito/train/burrito/325.jpg\n",
            "taco_and_burrito/train/burrito/117.jpg\n",
            "taco_and_burrito/train/burrito/130.jpg\n",
            "taco_and_burrito/train/burrito/302.jpg\n",
            "taco_and_burrito/train/burrito/206.jpg\n",
            "taco_and_burrito/train/burrito/347.jpg\n",
            "taco_and_burrito/train/burrito/298.jpg\n",
            "taco_and_burrito/train/burrito/033.jpg\n",
            "taco_and_burrito/train/burrito/161.jpg\n",
            "taco_and_burrito/train/burrito/156.jpg\n",
            "taco_and_burrito/train/burrito/199.jpg\n",
            "taco_and_burrito/train/burrito/238.jpg\n",
            "taco_and_burrito/train/burrito/185.jpg\n",
            "taco_and_burrito/train/burrito/329.jpg\n",
            "taco_and_burrito/train/burrito/305.jpg\n",
            "taco_and_burrito/train/burrito/312.jpg\n",
            "taco_and_burrito/train/burrito/000.jpg\n",
            "taco_and_burrito/train/burrito/345.jpg\n",
            "taco_and_burrito/train/burrito/068.jpg\n",
            "taco_and_burrito/train/burrito/245.jpg\n",
            "taco_and_burrito/train/burrito/241.jpg\n",
            "taco_and_burrito/train/burrito/133.jpg\n",
            "taco_and_burrito/train/burrito/334.jpg\n",
            "taco_and_burrito/train/burrito/344.jpg\n",
            "taco_and_burrito/train/burrito/055.jpg\n",
            "taco_and_burrito/train/burrito/009.jpg\n",
            "taco_and_burrito/train/burrito/134.jpg\n",
            "taco_and_burrito/train/burrito/066.jpg\n",
            "taco_and_burrito/train/burrito/227.jpg\n",
            "taco_and_burrito/train/burrito/260.jpg\n",
            "taco_and_burrito/train/burrito/237.jpg\n",
            "taco_and_burrito/train/burrito/145.jpg\n",
            "taco_and_burrito/train/burrito/278.jpg\n",
            "taco_and_burrito/train/burrito/327.jpg\n",
            "taco_and_burrito/train/burrito/109.jpg\n",
            "taco_and_burrito/train/burrito/019.jpg\n",
            "taco_and_burrito/train/burrito/080.jpg\n",
            "taco_and_burrito/train/burrito/339.jpg\n",
            "taco_and_burrito/train/burrito/062.jpg\n",
            "taco_and_burrito/train/burrito/306.jpg\n",
            "taco_and_burrito/train/burrito/175.jpg\n",
            "taco_and_burrito/train/burrito/127.jpg\n",
            "taco_and_burrito/train/burrito/213.jpg\n",
            "taco_and_burrito/train/burrito/217.jpg\n",
            "taco_and_burrito/train/burrito/219.jpg\n",
            "taco_and_burrito/train/burrito/309.jpg\n",
            "taco_and_burrito/train/burrito/106.jpg\n",
            "taco_and_burrito/train/burrito/034.jpg\n",
            "taco_and_burrito/train/burrito/240.jpg\n",
            "taco_and_burrito/train/burrito/176.jpg\n",
            "taco_and_burrito/train/burrito/342.jpg\n",
            "taco_and_burrito/train/burrito/042.jpg\n",
            "taco_and_burrito/train/burrito/267.jpg\n",
            "taco_and_burrito/train/burrito/246.jpg\n",
            "taco_and_burrito/train/burrito/094.jpg\n",
            "taco_and_burrito/train/burrito/358.jpg\n",
            "taco_and_burrito/train/burrito/022.jpg\n",
            "taco_and_burrito/train/burrito/116.jpg\n",
            "taco_and_burrito/train/burrito/350.jpg\n",
            "taco_and_burrito/train/burrito/157.jpg\n",
            "taco_and_burrito/train/burrito/041.jpg\n",
            "taco_and_burrito/train/burrito/336.jpg\n",
            "taco_and_burrito/train/burrito/153.jpg\n",
            "taco_and_burrito/train/burrito/315.jpg\n",
            "taco_and_burrito/train/burrito/030.jpg\n",
            "taco_and_burrito/train/burrito/207.jpg\n",
            "taco_and_burrito/train/burrito/003.jpg\n",
            "taco_and_burrito/train/burrito/073.jpg\n",
            "taco_and_burrito/train/burrito/259.jpg\n",
            "taco_and_burrito/train/burrito/065.jpg\n",
            "taco_and_burrito/train/burrito/299.jpg\n",
            "taco_and_burrito/train/burrito/313.jpg\n",
            "taco_and_burrito/train/burrito/244.jpg\n",
            "taco_and_burrito/train/burrito/191.jpg\n",
            "taco_and_burrito/train/burrito/154.jpg\n",
            "taco_and_burrito/train/burrito/007.jpg\n",
            "taco_and_burrito/train/burrito/084.jpg\n",
            "taco_and_burrito/train/burrito/158.jpg\n",
            "taco_and_burrito/train/burrito/152.jpg\n",
            "taco_and_burrito/train/burrito/205.jpg\n",
            "taco_and_burrito/train/burrito/162.jpg\n",
            "taco_and_burrito/train/burrito/253.jpg\n",
            "taco_and_burrito/train/burrito/061.jpg\n",
            "taco_and_burrito/train/burrito/036.jpg\n",
            "taco_and_burrito/train/burrito/123.jpg\n",
            "taco_and_burrito/train/burrito/067.jpg\n",
            "taco_and_burrito/train/burrito/224.jpg\n",
            "taco_and_burrito/train/burrito/017.jpg\n",
            "taco_and_burrito/train/burrito/170.jpg\n",
            "taco_and_burrito/train/burrito/089.jpg\n",
            "taco_and_burrito/train/burrito/323.jpg\n",
            "taco_and_burrito/train/burrito/269.jpg\n",
            "taco_and_burrito/train/burrito/265.jpg\n",
            "taco_and_burrito/train/burrito/044.jpg\n",
            "taco_and_burrito/train/burrito/102.jpg\n",
            "taco_and_burrito/train/burrito/110.jpg\n",
            "taco_and_burrito/train/burrito/050.jpg\n",
            "taco_and_burrito/train/burrito/292.jpg\n",
            "taco_and_burrito/train/burrito/011.jpg\n",
            "taco_and_burrito/train/burrito/101.jpg\n",
            "taco_and_burrito/train/burrito/190.jpg\n",
            "taco_and_burrito/train/burrito/314.jpg\n",
            "taco_and_burrito/train/burrito/225.jpg\n",
            "taco_and_burrito/train/burrito/015.jpg\n",
            "taco_and_burrito/train/burrito/196.jpg\n",
            "taco_and_burrito/train/burrito/346.jpg\n",
            "taco_and_burrito/train/burrito/166.jpg\n",
            "taco_and_burrito/train/burrito/243.jpg\n",
            "taco_and_burrito/train/burrito/255.jpg\n",
            "taco_and_burrito/train/burrito/045.jpg\n",
            "taco_and_burrito/train/burrito/064.jpg\n",
            "taco_and_burrito/train/burrito/025.jpg\n",
            "taco_and_burrito/train/burrito/311.jpg\n",
            "taco_and_burrito/train/burrito/256.jpg\n",
            "taco_and_burrito/train/burrito/252.jpg\n",
            "taco_and_burrito/train/burrito/230.jpg\n",
            "taco_and_burrito/train/burrito/319.jpg\n",
            "taco_and_burrito/train/burrito/193.jpg\n",
            "taco_and_burrito/train/burrito/031.jpg\n",
            "taco_and_burrito/train/burrito/052.jpg\n",
            "taco_and_burrito/train/burrito/286.jpg\n",
            "taco_and_burrito/train/burrito/354.jpg\n",
            "taco_and_burrito/train/burrito/290.jpg\n",
            "taco_and_burrito/train/burrito/234.jpg\n",
            "taco_and_burrito/train/burrito/002.jpg\n",
            "taco_and_burrito/train/burrito/122.jpg\n",
            "taco_and_burrito/train/burrito/184.jpg\n",
            "taco_and_burrito/train/burrito/273.jpg\n",
            "taco_and_burrito/train/burrito/082.jpg\n",
            "taco_and_burrito/train/burrito/271.jpg\n",
            "taco_and_burrito/train/burrito/277.jpg\n",
            "taco_and_burrito/train/burrito/051.jpg\n",
            "taco_and_burrito/train/burrito/274.jpg\n",
            "taco_and_burrito/train/burrito/197.jpg\n",
            "taco_and_burrito/train/burrito/318.jpg\n",
            "taco_and_burrito/train/burrito/201.jpg\n",
            "taco_and_burrito/train/burrito/105.jpg\n",
            "taco_and_burrito/train/burrito/280.jpg\n",
            "taco_and_burrito/train/burrito/129.jpg\n",
            "taco_and_burrito/train/burrito/021.jpg\n",
            "taco_and_burrito/train/burrito/261.jpg\n",
            "taco_and_burrito/train/burrito/119.jpg\n",
            "taco_and_burrito/train/burrito/143.jpg\n",
            "taco_and_burrito/train/burrito/028.jpg\n",
            "taco_and_burrito/train/burrito/348.jpg\n",
            "taco_and_burrito/train/burrito/296.jpg\n",
            "taco_and_burrito/train/burrito/081.jpg\n",
            "taco_and_burrito/train/burrito/144.jpg\n",
            "taco_and_burrito/train/burrito/078.jpg\n",
            "taco_and_burrito/train/burrito/014.jpg\n",
            "taco_and_burrito/train/burrito/220.jpg\n",
            "taco_and_burrito/train/burrito/276.jpg\n",
            "taco_and_burrito/train/burrito/040.jpg\n",
            "taco_and_burrito/train/burrito/169.jpg\n",
            "taco_and_burrito/train/burrito/211.jpg\n",
            "taco_and_burrito/train/burrito/250.jpg\n",
            "taco_and_burrito/train/burrito/085.jpg\n",
            "taco_and_burrito/train/burrito/203.jpg\n",
            "taco_and_burrito/train/burrito/069.jpg\n",
            "taco_and_burrito/train/burrito/337.jpg\n",
            "taco_and_burrito/train/burrito/221.jpg\n",
            "taco_and_burrito/train/burrito/074.jpg\n",
            "taco_and_burrito/train/burrito/026.jpg\n",
            "taco_and_burrito/train/burrito/303.jpg\n",
            "taco_and_burrito/train/burrito/043.jpg\n",
            "taco_and_burrito/train/burrito/112.jpg\n",
            "taco_and_burrito/train/burrito/173.jpg\n",
            "taco_and_burrito/train/burrito/322.jpg\n",
            "taco_and_burrito/train/burrito/180.jpg\n",
            "taco_and_burrito/train/burrito/270.jpg\n",
            "taco_and_burrito/train/burrito/008.jpg\n",
            "taco_and_burrito/train/burrito/239.jpg\n",
            "taco_and_burrito/train/burrito/012.jpg\n",
            "taco_and_burrito/train/burrito/163.jpg\n",
            "taco_and_burrito/train/burrito/216.jpg\n",
            "taco_and_burrito/train/burrito/132.jpg\n",
            "taco_and_burrito/train/burrito/179.jpg\n",
            "taco_and_burrito/train/burrito/077.jpg\n",
            "taco_and_burrito/train/burrito/108.jpg\n",
            "taco_and_burrito/train/burrito/324.jpg\n",
            "taco_and_burrito/train/burrito/118.jpg\n",
            "taco_and_burrito/train/burrito/272.jpg\n",
            "taco_and_burrito/train/burrito/087.jpg\n",
            "taco_and_burrito/train/burrito/289.jpg\n",
            "taco_and_burrito/train/burrito/187.jpg\n",
            "taco_and_burrito/train/burrito/215.jpg\n",
            "taco_and_burrito/train/burrito/204.jpg\n",
            "taco_and_burrito/train/burrito/282.jpg\n",
            "taco_and_burrito/train/burrito/288.jpg\n",
            "taco_and_burrito/train/burrito/121.jpg\n",
            "taco_and_burrito/train/burrito/316.jpg\n",
            "taco_and_burrito/train/burrito/210.jpg\n",
            "taco_and_burrito/train/burrito/226.jpg\n",
            "taco_and_burrito/train/burrito/353.jpg\n",
            "taco_and_burrito/train/burrito/242.jpg\n",
            "taco_and_burrito/train/burrito/281.jpg\n",
            "taco_and_burrito/train/burrito/005.jpg\n",
            "taco_and_burrito/train/burrito/248.jpg\n",
            "taco_and_burrito/train/burrito/293.jpg\n",
            "taco_and_burrito/train/burrito/063.jpg\n",
            "taco_and_burrito/train/burrito/155.jpg\n",
            "taco_and_burrito/train/burrito/200.jpg\n",
            "taco_and_burrito/train/burrito/149.jpg\n",
            "taco_and_burrito/train/burrito/113.jpg\n",
            "taco_and_burrito/train/burrito/027.jpg\n",
            "taco_and_burrito/train/burrito/083.jpg\n",
            "taco_and_burrito/train/burrito/100.jpg\n",
            "taco_and_burrito/train/burrito/178.jpg\n",
            "taco_and_burrito/train/burrito/095.jpg\n",
            "taco_and_burrito/train/burrito/035.jpg\n",
            "taco_and_burrito/train/burrito/212.jpg\n",
            "taco_and_burrito/train/burrito/071.jpg\n",
            "taco_and_burrito/train/burrito/004.jpg\n",
            "taco_and_burrito/train/burrito/104.jpg\n",
            "taco_and_burrito/train/burrito/032.jpg\n",
            "taco_and_burrito/train/burrito/137.jpg\n",
            "taco_and_burrito/train/burrito/310.jpg\n",
            "taco_and_burrito/train/burrito/141.jpg\n",
            "taco_and_burrito/train/burrito/257.jpg\n",
            "taco_and_burrito/train/burrito/029.jpg\n",
            "taco_and_burrito/train/burrito/295.jpg\n",
            "taco_and_burrito/train/burrito/038.jpg\n",
            "taco_and_burrito/train/burrito/223.jpg\n",
            "taco_and_burrito/train/burrito/076.jpg\n",
            "taco_and_burrito/train/burrito/275.jpg\n",
            "taco_and_burrito/train/burrito/268.jpg\n",
            "taco_and_burrito/train/burrito/357.jpg\n",
            "taco_and_burrito/train/burrito/138.jpg\n",
            "taco_and_burrito/train/burrito/189.jpg\n",
            "taco_and_burrito/train/burrito/251.jpg\n",
            "taco_and_burrito/train/burrito/049.jpg\n",
            "taco_and_burrito/train/burrito/148.jpg\n",
            "taco_and_burrito/train/burrito/126.jpg\n",
            "taco_and_burrito/train/burrito/171.jpg\n",
            "taco_and_burrito/train/burrito/192.jpg\n",
            "taco_and_burrito/train/burrito/098.jpg\n",
            "taco_and_burrito/train/burrito/283.jpg\n",
            "taco_and_burrito/train/burrito/330.jpg\n",
            "taco_and_burrito/train/burrito/048.jpg\n",
            "taco_and_burrito/train/burrito/249.jpg\n",
            "taco_and_burrito/train/burrito/232.jpg\n",
            "taco_and_burrito/train/burrito/115.jpg\n",
            "taco_and_burrito/train/burrito/056.jpg\n",
            "taco_and_burrito/train/burrito/053.jpg\n",
            "taco_and_burrito/train/burrito/198.jpg\n",
            "taco_and_burrito/train/burrito/326.jpg\n",
            "taco_and_burrito/train/burrito/209.jpg\n",
            "taco_and_burrito/train/burrito/131.jpg\n",
            "taco_and_burrito/train/burrito/070.jpg\n",
            "taco_and_burrito/train/burrito/072.jpg\n",
            "taco_and_burrito/train/burrito/188.jpg\n",
            "taco_and_burrito/train/burrito/355.jpg\n",
            "taco_and_burrito/train/burrito/218.jpg\n",
            "taco_and_burrito/train/burrito/182.jpg\n",
            "taco_and_burrito/train/burrito/231.jpg\n",
            "taco_and_burrito/train/burrito/300.jpg\n",
            "taco_and_burrito/train/burrito/090.jpg\n",
            "taco_and_burrito/train/burrito/291.jpg\n",
            "taco_and_burrito/train/burrito/332.jpg\n",
            "taco_and_burrito/train/burrito/047.jpg\n",
            "taco_and_burrito/train/burrito/147.jpg\n",
            "taco_and_burrito/train/burrito/060.jpg\n",
            "taco_and_burrito/train/burrito/338.jpg\n",
            "taco_and_burrito/train/burrito/124.jpg\n",
            "taco_and_burrito/train/burrito/307.jpg\n",
            "taco_and_burrito/train/burrito/128.jpg\n",
            "taco_and_burrito/train/burrito/075.jpg\n",
            "taco_and_burrito/train/burrito/020.jpg\n",
            "taco_and_burrito/train/burrito/091.jpg\n",
            "taco_and_burrito/train/burrito/140.jpg\n",
            "taco_and_burrito/train/burrito/208.jpg\n",
            "taco_and_burrito/train/burrito/266.jpg\n",
            "taco_and_burrito/train/burrito/018.jpg\n",
            "taco_and_burrito/train/burrito/001.jpg\n",
            "taco_and_burrito/train/burrito/235.jpg\n",
            "taco_and_burrito/train/burrito/172.jpg\n",
            "taco_and_burrito/train/taco/\n",
            "taco_and_burrito/train/taco/174.jpg\n",
            "taco_and_burrito/train/taco/304.jpg\n",
            "taco_and_burrito/train/taco/279.jpg\n",
            "taco_and_burrito/train/taco/016.jpg\n",
            "taco_and_burrito/train/taco/351.jpg\n",
            "taco_and_burrito/train/taco/356.jpg\n",
            "taco_and_burrito/train/taco/247.jpg\n",
            "taco_and_burrito/train/taco/331.jpg\n",
            "taco_and_burrito/train/taco/024.jpg\n",
            "taco_and_burrito/train/taco/320.jpg\n",
            "taco_and_burrito/train/taco/099.jpg\n",
            "taco_and_burrito/train/taco/168.jpg\n",
            "taco_and_burrito/train/taco/343.jpg\n",
            "taco_and_burrito/train/taco/335.jpg\n",
            "taco_and_burrito/train/taco/264.jpg\n",
            "taco_and_burrito/train/taco/111.jpg\n",
            "taco_and_burrito/train/taco/181.jpg\n",
            "taco_and_burrito/train/taco/092.jpg\n",
            "taco_and_burrito/train/taco/046.jpg\n",
            "taco_and_burrito/train/taco/262.jpg\n",
            "taco_and_burrito/train/taco/254.jpg\n",
            "taco_and_burrito/train/taco/160.jpg\n",
            "taco_and_burrito/train/taco/114.jpg\n",
            "taco_and_burrito/train/taco/194.jpg\n",
            "taco_and_burrito/train/taco/097.jpg\n",
            "taco_and_burrito/train/taco/183.jpg\n",
            "taco_and_burrito/train/taco/088.jpg\n",
            "taco_and_burrito/train/taco/164.jpg\n",
            "taco_and_burrito/train/taco/150.jpg\n",
            "taco_and_burrito/train/taco/328.jpg\n",
            "taco_and_burrito/train/taco/297.jpg\n",
            "taco_and_burrito/train/taco/317.jpg\n",
            "taco_and_burrito/train/taco/167.jpg\n",
            "taco_and_burrito/train/taco/222.jpg\n",
            "taco_and_burrito/train/taco/079.jpg\n",
            "taco_and_burrito/train/taco/229.jpg\n",
            "taco_and_burrito/train/taco/308.jpg\n",
            "taco_and_burrito/train/taco/177.jpg\n",
            "taco_and_burrito/train/taco/006.jpg\n",
            "taco_and_burrito/train/taco/258.jpg\n",
            "taco_and_burrito/train/taco/120.jpg\n",
            "taco_and_burrito/train/taco/214.jpg\n",
            "taco_and_burrito/train/taco/013.jpg\n",
            "taco_and_burrito/train/taco/125.jpg\n",
            "taco_and_burrito/train/taco/096.jpg\n",
            "taco_and_burrito/train/taco/103.jpg\n",
            "taco_and_burrito/train/taco/202.jpg\n",
            "taco_and_burrito/train/taco/142.jpg\n",
            "taco_and_burrito/train/taco/086.jpg\n",
            "taco_and_burrito/train/taco/107.jpg\n",
            "taco_and_burrito/train/taco/321.jpg\n",
            "taco_and_burrito/train/taco/151.jpg\n",
            "taco_and_burrito/train/taco/037.jpg\n",
            "taco_and_burrito/train/taco/093.jpg\n",
            "taco_and_burrito/train/taco/135.jpg\n",
            "taco_and_burrito/train/taco/294.jpg\n",
            "taco_and_burrito/train/taco/165.jpg\n",
            "taco_and_burrito/train/taco/287.jpg\n",
            "taco_and_burrito/train/taco/057.jpg\n",
            "taco_and_burrito/train/taco/139.jpg\n",
            "taco_and_burrito/train/taco/059.jpg\n",
            "taco_and_burrito/train/taco/195.jpg\n",
            "taco_and_burrito/train/taco/301.jpg\n",
            "taco_and_burrito/train/taco/349.jpg\n",
            "taco_and_burrito/train/taco/228.jpg\n",
            "taco_and_burrito/train/taco/285.jpg\n",
            "taco_and_burrito/train/taco/010.jpg\n",
            "taco_and_burrito/train/taco/333.jpg\n",
            "taco_and_burrito/train/taco/058.jpg\n",
            "taco_and_burrito/train/taco/146.jpg\n",
            "taco_and_burrito/train/taco/233.jpg\n",
            "taco_and_burrito/train/taco/054.jpg\n",
            "taco_and_burrito/train/taco/186.jpg\n",
            "taco_and_burrito/train/taco/341.jpg\n",
            "taco_and_burrito/train/taco/359.jpg\n",
            "taco_and_burrito/train/taco/340.jpg\n",
            "taco_and_burrito/train/taco/236.jpg\n",
            "taco_and_burrito/train/taco/136.jpg\n",
            "taco_and_burrito/train/taco/039.jpg\n",
            "taco_and_burrito/train/taco/023.jpg\n",
            "taco_and_burrito/train/taco/284.jpg\n",
            "taco_and_burrito/train/taco/325.jpg\n",
            "taco_and_burrito/train/taco/117.jpg\n",
            "taco_and_burrito/train/taco/130.jpg\n",
            "taco_and_burrito/train/taco/302.jpg\n",
            "taco_and_burrito/train/taco/206.jpg\n",
            "taco_and_burrito/train/taco/347.jpg\n",
            "taco_and_burrito/train/taco/298.jpg\n",
            "taco_and_burrito/train/taco/033.jpg\n",
            "taco_and_burrito/train/taco/161.jpg\n",
            "taco_and_burrito/train/taco/156.jpg\n",
            "taco_and_burrito/train/taco/238.jpg\n",
            "taco_and_burrito/train/taco/185.jpg\n",
            "taco_and_burrito/train/taco/329.jpg\n",
            "taco_and_burrito/train/taco/305.jpg\n",
            "taco_and_burrito/train/taco/312.jpg\n",
            "taco_and_burrito/train/taco/000.jpg\n",
            "taco_and_burrito/train/taco/345.jpg\n",
            "taco_and_burrito/train/taco/068.jpg\n",
            "taco_and_burrito/train/taco/245.jpg\n",
            "taco_and_burrito/train/taco/263.jpg\n",
            "taco_and_burrito/train/taco/241.jpg\n",
            "taco_and_burrito/train/taco/133.jpg\n",
            "taco_and_burrito/train/taco/334.jpg\n",
            "taco_and_burrito/train/taco/344.jpg\n",
            "taco_and_burrito/train/taco/055.jpg\n",
            "taco_and_burrito/train/taco/009.jpg\n",
            "taco_and_burrito/train/taco/134.jpg\n",
            "taco_and_burrito/train/taco/066.jpg\n",
            "taco_and_burrito/train/taco/227.jpg\n",
            "taco_and_burrito/train/taco/260.jpg\n",
            "taco_and_burrito/train/taco/237.jpg\n",
            "taco_and_burrito/train/taco/145.jpg\n",
            "taco_and_burrito/train/taco/278.jpg\n",
            "taco_and_burrito/train/taco/327.jpg\n",
            "taco_and_burrito/train/taco/109.jpg\n",
            "taco_and_burrito/train/taco/019.jpg\n",
            "taco_and_burrito/train/taco/080.jpg\n",
            "taco_and_burrito/train/taco/339.jpg\n",
            "taco_and_burrito/train/taco/062.jpg\n",
            "taco_and_burrito/train/taco/306.jpg\n",
            "taco_and_burrito/train/taco/175.jpg\n",
            "taco_and_burrito/train/taco/127.jpg\n",
            "taco_and_burrito/train/taco/213.jpg\n",
            "taco_and_burrito/train/taco/217.jpg\n",
            "taco_and_burrito/train/taco/219.jpg\n",
            "taco_and_burrito/train/taco/309.jpg\n",
            "taco_and_burrito/train/taco/106.jpg\n",
            "taco_and_burrito/train/taco/034.jpg\n",
            "taco_and_burrito/train/taco/240.jpg\n",
            "taco_and_burrito/train/taco/176.jpg\n",
            "taco_and_burrito/train/taco/342.jpg\n",
            "taco_and_burrito/train/taco/042.jpg\n",
            "taco_and_burrito/train/taco/267.jpg\n",
            "taco_and_burrito/train/taco/246.jpg\n",
            "taco_and_burrito/train/taco/094.jpg\n",
            "taco_and_burrito/train/taco/358.jpg\n",
            "taco_and_burrito/train/taco/022.jpg\n",
            "taco_and_burrito/train/taco/116.jpg\n",
            "taco_and_burrito/train/taco/350.jpg\n",
            "taco_and_burrito/train/taco/157.jpg\n",
            "taco_and_burrito/train/taco/041.jpg\n",
            "taco_and_burrito/train/taco/336.jpg\n",
            "taco_and_burrito/train/taco/153.jpg\n",
            "taco_and_burrito/train/taco/315.jpg\n",
            "taco_and_burrito/train/taco/030.jpg\n",
            "taco_and_burrito/train/taco/207.jpg\n",
            "taco_and_burrito/train/taco/003.jpg\n",
            "taco_and_burrito/train/taco/073.jpg\n",
            "taco_and_burrito/train/taco/259.jpg\n",
            "taco_and_burrito/train/taco/065.jpg\n",
            "taco_and_burrito/train/taco/299.jpg\n",
            "taco_and_burrito/train/taco/313.jpg\n",
            "taco_and_burrito/train/taco/244.jpg\n",
            "taco_and_burrito/train/taco/154.jpg\n",
            "taco_and_burrito/train/taco/007.jpg\n",
            "taco_and_burrito/train/taco/084.jpg\n",
            "taco_and_burrito/train/taco/158.jpg\n",
            "taco_and_burrito/train/taco/152.jpg\n",
            "taco_and_burrito/train/taco/205.jpg\n",
            "taco_and_burrito/train/taco/162.jpg\n",
            "taco_and_burrito/train/taco/253.jpg\n",
            "taco_and_burrito/train/taco/061.jpg\n",
            "taco_and_burrito/train/taco/036.jpg\n",
            "taco_and_burrito/train/taco/123.jpg\n",
            "taco_and_burrito/train/taco/067.jpg\n",
            "taco_and_burrito/train/taco/224.jpg\n",
            "taco_and_burrito/train/taco/017.jpg\n",
            "taco_and_burrito/train/taco/170.jpg\n",
            "taco_and_burrito/train/taco/089.jpg\n",
            "taco_and_burrito/train/taco/323.jpg\n",
            "taco_and_burrito/train/taco/269.jpg\n",
            "taco_and_burrito/train/taco/265.jpg\n",
            "taco_and_burrito/train/taco/044.jpg\n",
            "taco_and_burrito/train/taco/102.jpg\n",
            "taco_and_burrito/train/taco/110.jpg\n",
            "taco_and_burrito/train/taco/050.jpg\n",
            "taco_and_burrito/train/taco/292.jpg\n",
            "taco_and_burrito/train/taco/011.jpg\n",
            "taco_and_burrito/train/taco/101.jpg\n",
            "taco_and_burrito/train/taco/190.jpg\n",
            "taco_and_burrito/train/taco/314.jpg\n",
            "taco_and_burrito/train/taco/225.jpg\n",
            "taco_and_burrito/train/taco/015.jpg\n",
            "taco_and_burrito/train/taco/196.jpg\n",
            "taco_and_burrito/train/taco/346.jpg\n",
            "taco_and_burrito/train/taco/166.jpg\n",
            "taco_and_burrito/train/taco/243.jpg\n",
            "taco_and_burrito/train/taco/255.jpg\n",
            "taco_and_burrito/train/taco/045.jpg\n",
            "taco_and_burrito/train/taco/064.jpg\n",
            "taco_and_burrito/train/taco/025.jpg\n",
            "taco_and_burrito/train/taco/311.jpg\n",
            "taco_and_burrito/train/taco/256.jpg\n",
            "taco_and_burrito/train/taco/252.jpg\n",
            "taco_and_burrito/train/taco/230.jpg\n",
            "taco_and_burrito/train/taco/319.jpg\n",
            "taco_and_burrito/train/taco/193.jpg\n",
            "taco_and_burrito/train/taco/031.jpg\n",
            "taco_and_burrito/train/taco/052.jpg\n",
            "taco_and_burrito/train/taco/286.jpg\n",
            "taco_and_burrito/train/taco/354.jpg\n",
            "taco_and_burrito/train/taco/290.jpg\n",
            "taco_and_burrito/train/taco/234.jpg\n",
            "taco_and_burrito/train/taco/002.jpg\n",
            "taco_and_burrito/train/taco/122.jpg\n",
            "taco_and_burrito/train/taco/184.jpg\n",
            "taco_and_burrito/train/taco/273.jpg\n",
            "taco_and_burrito/train/taco/082.jpg\n",
            "taco_and_burrito/train/taco/271.jpg\n",
            "taco_and_burrito/train/taco/277.jpg\n",
            "taco_and_burrito/train/taco/051.jpg\n",
            "taco_and_burrito/train/taco/274.jpg\n",
            "taco_and_burrito/train/taco/197.jpg\n",
            "taco_and_burrito/train/taco/318.jpg\n",
            "taco_and_burrito/train/taco/201.jpg\n",
            "taco_and_burrito/train/taco/105.jpg\n",
            "taco_and_burrito/train/taco/280.jpg\n",
            "taco_and_burrito/train/taco/129.jpg\n",
            "taco_and_burrito/train/taco/021.jpg\n",
            "taco_and_burrito/train/taco/261.jpg\n",
            "taco_and_burrito/train/taco/119.jpg\n",
            "taco_and_burrito/train/taco/143.jpg\n",
            "taco_and_burrito/train/taco/028.jpg\n",
            "taco_and_burrito/train/taco/348.jpg\n",
            "taco_and_burrito/train/taco/296.jpg\n",
            "taco_and_burrito/train/taco/081.jpg\n",
            "taco_and_burrito/train/taco/144.jpg\n",
            "taco_and_burrito/train/taco/078.jpg\n",
            "taco_and_burrito/train/taco/014.jpg\n",
            "taco_and_burrito/train/taco/220.jpg\n",
            "taco_and_burrito/train/taco/276.jpg\n",
            "taco_and_burrito/train/taco/040.jpg\n",
            "taco_and_burrito/train/taco/169.jpg\n",
            "taco_and_burrito/train/taco/211.jpg\n",
            "taco_and_burrito/train/taco/250.jpg\n",
            "taco_and_burrito/train/taco/085.jpg\n",
            "taco_and_burrito/train/taco/203.jpg\n",
            "taco_and_burrito/train/taco/069.jpg\n",
            "taco_and_burrito/train/taco/337.jpg\n",
            "taco_and_burrito/train/taco/221.jpg\n",
            "taco_and_burrito/train/taco/026.jpg\n",
            "taco_and_burrito/train/taco/303.jpg\n",
            "taco_and_burrito/train/taco/043.jpg\n",
            "taco_and_burrito/train/taco/112.jpg\n",
            "taco_and_burrito/train/taco/173.jpg\n",
            "taco_and_burrito/train/taco/322.jpg\n",
            "taco_and_burrito/train/taco/180.jpg\n",
            "taco_and_burrito/train/taco/270.jpg\n",
            "taco_and_burrito/train/taco/008.jpg\n",
            "taco_and_burrito/train/taco/239.jpg\n",
            "taco_and_burrito/train/taco/012.jpg\n",
            "taco_and_burrito/train/taco/163.jpg\n",
            "taco_and_burrito/train/taco/216.jpg\n",
            "taco_and_burrito/train/taco/132.jpg\n",
            "taco_and_burrito/train/taco/179.jpg\n",
            "taco_and_burrito/train/taco/077.jpg\n",
            "taco_and_burrito/train/taco/108.jpg\n",
            "taco_and_burrito/train/taco/324.jpg\n",
            "taco_and_burrito/train/taco/118.jpg\n",
            "taco_and_burrito/train/taco/272.jpg\n",
            "taco_and_burrito/train/taco/087.jpg\n",
            "taco_and_burrito/train/taco/289.jpg\n",
            "taco_and_burrito/train/taco/187.jpg\n",
            "taco_and_burrito/train/taco/215.jpg\n",
            "taco_and_burrito/train/taco/204.jpg\n",
            "taco_and_burrito/train/taco/282.jpg\n",
            "taco_and_burrito/train/taco/288.jpg\n",
            "taco_and_burrito/train/taco/121.jpg\n",
            "taco_and_burrito/train/taco/316.jpg\n",
            "taco_and_burrito/train/taco/352.jpg\n",
            "taco_and_burrito/train/taco/210.jpg\n",
            "taco_and_burrito/train/taco/226.jpg\n",
            "taco_and_burrito/train/taco/353.jpg\n",
            "taco_and_burrito/train/taco/242.jpg\n",
            "taco_and_burrito/train/taco/281.jpg\n",
            "taco_and_burrito/train/taco/005.jpg\n",
            "taco_and_burrito/train/taco/248.jpg\n",
            "taco_and_burrito/train/taco/293.jpg\n",
            "taco_and_burrito/train/taco/063.jpg\n",
            "taco_and_burrito/train/taco/155.jpg\n",
            "taco_and_burrito/train/taco/200.jpg\n",
            "taco_and_burrito/train/taco/149.jpg\n",
            "taco_and_burrito/train/taco/113.jpg\n",
            "taco_and_burrito/train/taco/027.jpg\n",
            "taco_and_burrito/train/taco/083.jpg\n",
            "taco_and_burrito/train/taco/100.jpg\n",
            "taco_and_burrito/train/taco/178.jpg\n",
            "taco_and_burrito/train/taco/095.jpg\n",
            "taco_and_burrito/train/taco/035.jpg\n",
            "taco_and_burrito/train/taco/212.jpg\n",
            "taco_and_burrito/train/taco/071.jpg\n",
            "taco_and_burrito/train/taco/004.jpg\n",
            "taco_and_burrito/train/taco/104.jpg\n",
            "taco_and_burrito/train/taco/032.jpg\n",
            "taco_and_burrito/train/taco/137.jpg\n",
            "taco_and_burrito/train/taco/310.jpg\n",
            "taco_and_burrito/train/taco/141.jpg\n",
            "taco_and_burrito/train/taco/257.jpg\n",
            "taco_and_burrito/train/taco/029.jpg\n",
            "taco_and_burrito/train/taco/295.jpg\n",
            "taco_and_burrito/train/taco/038.jpg\n",
            "taco_and_burrito/train/taco/076.jpg\n",
            "taco_and_burrito/train/taco/275.jpg\n",
            "taco_and_burrito/train/taco/268.jpg\n",
            "taco_and_burrito/train/taco/357.jpg\n",
            "taco_and_burrito/train/taco/138.jpg\n",
            "taco_and_burrito/train/taco/189.jpg\n",
            "taco_and_burrito/train/taco/251.jpg\n",
            "taco_and_burrito/train/taco/049.jpg\n",
            "taco_and_burrito/train/taco/148.jpg\n",
            "taco_and_burrito/train/taco/126.jpg\n",
            "taco_and_burrito/train/taco/171.jpg\n",
            "taco_and_burrito/train/taco/192.jpg\n",
            "taco_and_burrito/train/taco/098.jpg\n",
            "taco_and_burrito/train/taco/283.jpg\n",
            "taco_and_burrito/train/taco/330.jpg\n",
            "taco_and_burrito/train/taco/048.jpg\n",
            "taco_and_burrito/train/taco/249.jpg\n",
            "taco_and_burrito/train/taco/232.jpg\n",
            "taco_and_burrito/train/taco/115.jpg\n",
            "taco_and_burrito/train/taco/056.jpg\n",
            "taco_and_burrito/train/taco/053.jpg\n",
            "taco_and_burrito/train/taco/198.jpg\n",
            "taco_and_burrito/train/taco/326.jpg\n",
            "taco_and_burrito/train/taco/209.jpg\n",
            "taco_and_burrito/train/taco/131.jpg\n",
            "taco_and_burrito/train/taco/070.jpg\n",
            "taco_and_burrito/train/taco/072.jpg\n",
            "taco_and_burrito/train/taco/188.jpg\n",
            "taco_and_burrito/train/taco/355.jpg\n",
            "taco_and_burrito/train/taco/218.jpg\n",
            "taco_and_burrito/train/taco/182.jpg\n",
            "taco_and_burrito/train/taco/231.jpg\n",
            "taco_and_burrito/train/taco/090.jpg\n",
            "taco_and_burrito/train/taco/291.jpg\n",
            "taco_and_burrito/train/taco/332.jpg\n",
            "taco_and_burrito/train/taco/047.jpg\n",
            "taco_and_burrito/train/taco/147.jpg\n",
            "taco_and_burrito/train/taco/060.jpg\n",
            "taco_and_burrito/train/taco/338.jpg\n",
            "taco_and_burrito/train/taco/124.jpg\n",
            "taco_and_burrito/train/taco/307.jpg\n",
            "taco_and_burrito/train/taco/128.jpg\n",
            "taco_and_burrito/train/taco/075.jpg\n",
            "taco_and_burrito/train/taco/020.jpg\n",
            "taco_and_burrito/train/taco/091.jpg\n",
            "taco_and_burrito/train/taco/140.jpg\n",
            "taco_and_burrito/train/taco/208.jpg\n",
            "taco_and_burrito/train/taco/266.jpg\n",
            "taco_and_burrito/train/taco/018.jpg\n",
            "taco_and_burrito/train/taco/001.jpg\n",
            "taco_and_burrito/train/taco/235.jpg\n",
            "taco_and_burrito/train/taco/172.jpg\n"
          ],
          "name": "stdout"
        }
      ]
    },
    {
      "metadata": {
        "id": "knaMED5QX5pk",
        "colab_type": "code",
        "colab": {
          "base_uri": "https://localhost:8080/",
          "height": 51
        },
        "outputId": "fd40ce7b-9781-4d6b-c4a2-3b031fde5abe"
      },
      "cell_type": "code",
      "source": [
        "! ls taco_and_burrito\n",
        "! ls taco_and_burrito/train"
      ],
      "execution_count": 21,
      "outputs": [
        {
          "output_type": "stream",
          "text": [
            "test  train\n",
            "burrito  taco\n"
          ],
          "name": "stdout"
        }
      ]
    },
    {
      "metadata": {
        "id": "7uAy99O0YMQC",
        "colab_type": "text"
      },
      "cell_type": "markdown",
      "source": [
        "test にはそれぞれ30枚ずつ画像があり、train はそれ以外全部である。このディレクトリ構成にしておくと次のように torchvision の ImageFolder で読み込んで Dataset に用意に変換できる。  \n",
        "PyTorch の ImageNet による学習済みモデルは 224×224 ピクセルの画像を入力として受け付けるのでこのサイズにクロップする。学習用データはより堅牢な学習結果にするためにランダムにクロップ（*RandomCrop*）し、検証用データは中心部をクロップ（*CenterCrop*）する。"
      ]
    },
    {
      "metadata": {
        "id": "dbFAXZSMX9fw",
        "colab_type": "code",
        "colab": {}
      },
      "cell_type": "code",
      "source": [
        "## DataLoader を作成\n",
        "\n",
        "from torchvision.datasets import ImageFolder\n",
        "from torchvision import transforms\n",
        "\n",
        "# ImageFolder 関数を使用して Dataset を作成する\n",
        "train_imgs = ImageFolder(\"taco_and_burrito/train\", \n",
        "                         transform = transforms.Compose([transforms.RandomCrop(224), transforms.ToTensor()])\n",
        "                        )\n",
        "test_imgs = ImageFolder(\"taco_and_burrito/test\", \n",
        "                         transform = transforms.Compose([transforms.CenterCrop(224), transforms.ToTensor()])\n",
        "                       )\n",
        "\n",
        "# DataLoader を作成\n",
        "train_loader = DataLoader(train_imgs, batch_size=32, shuffle=True)\n",
        "test_loader = DataLoader(test_imgs, batch_size=32, shuffle=True)"
      ],
      "execution_count": 0,
      "outputs": []
    },
    {
      "metadata": {
        "id": "M8D4i8fMbHds",
        "colab_type": "text"
      },
      "cell_type": "markdown",
      "source": [
        "*ImageFolder* を使用すると指定したディレクトリのサブディレクトリ名をクラス名とし、そのディレクトリ以下の画像とクラスのインデックスの tuple を返す *Dataset* を作成できる。クラス名とクラスインデックスの対応は以下のように確認できる。"
      ]
    },
    {
      "metadata": {
        "id": "C1b9fyUabG5_",
        "colab_type": "code",
        "colab": {
          "base_uri": "https://localhost:8080/",
          "height": 51
        },
        "outputId": "edda6ff1-f70a-44a0-b934-1ae6bdab1f11"
      },
      "cell_type": "code",
      "source": [
        "# クラス名とクラスインデックスの対応の確認\n",
        "\n",
        "print( train_imgs.classes)\n",
        "print( train_imgs.class_to_idx)"
      ],
      "execution_count": 23,
      "outputs": [
        {
          "output_type": "stream",
          "text": [
            "['burrito', 'taco']\n",
            "{'burrito': 0, 'taco': 1}\n"
          ],
          "name": "stdout"
        }
      ]
    },
    {
      "metadata": {
        "id": "DDPKNmvGbv_Q",
        "colab_type": "text"
      },
      "cell_type": "markdown",
      "source": [
        "### 4.3.2 PyTorch で転移学習\n",
        "\n",
        "まずは事前学習済み（Pre-trained）のモデルをロードする。ここでは ResNet18 というモデルを使用する。  \n",
        "**このモデルは出力の線形層が fc という名前で取得できる**ので、まずは全てのパラメータを微分対象から外し、その後 *fc* に新しい線形層をセットする。  \n",
        "ここでは2クラスの分類なので線形層の出力の次元は2にする。新しくセットした層のパラメータはデフォルトで微分対象なので、これで最後の線形層のみの対象となる。"
      ]
    },
    {
      "metadata": {
        "id": "eBxy6fOnbsEu",
        "colab_type": "code",
        "colab": {}
      },
      "cell_type": "code",
      "source": [
        "## 事前学習済み（Pre-trained）モデルのロードと定義\n",
        "# （※ Ubuntu の環境で、2回目以降に実行する場合は、 .torch/models/resnet18-5c106cde.pth を削除して実行する）\n",
        "\n",
        "from torchvision import models\n",
        "\n",
        "# 事前学習済みの resnet18 のロード\n",
        "net = models.resnet18(pretrained = True)\n",
        "\n",
        "# 全てのパラメータを微分対象外にする\n",
        "for p in net.parameters():\n",
        "  p.requires_grad = False\n",
        "  \n",
        "# 最後の線形層を付け替える\n",
        "fc_input_dim = net.fc.in_features\n",
        "net.fc = nn.Linear(fc_input_dim, 2)"
      ],
      "execution_count": 0,
      "outputs": []
    },
    {
      "metadata": {
        "id": "ygIyfJHZdab7",
        "colab_type": "text"
      },
      "cell_type": "markdown",
      "source": [
        "モデルの定義は以上。後はこれまでと同様にモデルの訓練関数を書いていく。唯一の違いは fc のパラメータのみをオプティマイザーに渡す点である。（GPUで実行する）"
      ]
    },
    {
      "metadata": {
        "id": "Bt4Yit7ec8L8",
        "colab_type": "code",
        "colab": {}
      },
      "cell_type": "code",
      "source": [
        "## モデルの訓練関数の記述\n",
        "\n",
        "def eval_net(net, data_loader, device='cpu'):\n",
        "  # Dropout や BatchNorm を無効化\n",
        "  net.eval()\n",
        "  ys = []\n",
        "  ypreds = []\n",
        "  for x, y in data_loader:\n",
        "    # to メソッドで計算を実行するデバイスに転送する\n",
        "    x = x.to(device)\n",
        "    y = y.to(device)\n",
        "    \"\"\"\n",
        "    確率が最大のクラスを予測（リスト2.14）\n",
        "    ここでは forward（推論）の計算だけなので自動微分に、必要な処理は off にして余計な計算を省く\n",
        "    \"\"\"\n",
        "    with torch.no_grad():\n",
        "      _, y_pred = net(x).max(1)\n",
        "    ys.append(y)\n",
        "    ypreds.append(y_pred)\n",
        "  # ミニバッチごとの予測結果などを1つにまとめる\n",
        "  ys = torch.cat(ys)\n",
        "  ypreds = torch.cat(ypreds)\n",
        "  # 予測精度を計算\n",
        "  acc = (ys == ypreds).float().sum() / len(ys)\n",
        "  return acc.item()"
      ],
      "execution_count": 0,
      "outputs": []
    },
    {
      "metadata": {
        "id": "TnnecKoKdASu",
        "colab_type": "code",
        "colab": {}
      },
      "cell_type": "code",
      "source": [
        "def train_net(net, train_loader, test_loader, \n",
        "              only_fc=True, optimizer_cls=optim.Adam, loss_fn=nn.CrossEntropyLoss(), n_iter=10, device='cpu'):\n",
        "  train_losses = []\n",
        "  train_acc = []\n",
        "  val_acc = []\n",
        "  if only_fc:\n",
        "    # 最後の線形層のパラメータのみを optimizer に渡す\n",
        "    optimizer = optimizer_cls(net.fc.parameters())\n",
        "  else:\n",
        "    optimizer = optimizer_cls(net.parameters())\n",
        "  for epoch in range(n_iter):\n",
        "    running_loss = 0.0\n",
        "    # ネットワークを訓練モードにする\n",
        "    net.train()\n",
        "    n = 0\n",
        "    n_acc = 0\n",
        "    # 非常に時間がかかるので tqdm を使用してプログレスバーを出す\n",
        "    for i, (xx, yy) in tqdm(enumerate(train_loader), total=len(train_loader)):\n",
        "      xx = xx.to(device)\n",
        "      yy = yy.to(device)\n",
        "      h = net(xx)\n",
        "      loss = loss_fn(h, yy)\n",
        "      optimizer.zero_grad()\n",
        "      loss.backward()\n",
        "      optimizer.step()\n",
        "      running_loss += loss.item()\n",
        "      n += len(xx)\n",
        "      _, y_pred = h.max(1)\n",
        "      n_acc += (yy == y_pred).float().sum().item()\n",
        "    train_losses.append(running_loss / i)\n",
        "    # 訓練データの予測精度\n",
        "    train_acc.append(n_acc / n)\n",
        "    # 検証データの予測精度\n",
        "    val_acc.append(eval_net(net, test_loader, device))\n",
        "    # この epoch での結果を表示: リストに追加された最新の値を取り出す\n",
        "    print(\"epoch: {} train_loss: {} train_acc: {} val_acc: {}\".format(epoch, round(train_losses[-1],5), round(train_acc[-1],5), round(val_acc[-1],5), flush=True))  # pythonで print の出力結果を即時・強制表示させる（主にjupyter）\n",
        "  return train_losses, train_acc, val_acc"
      ],
      "execution_count": 0,
      "outputs": []
    },
    {
      "metadata": {
        "id": "2eRHxbRBrZiT",
        "colab_type": "code",
        "colab": {
          "base_uri": "https://localhost:8080/",
          "height": 697
        },
        "outputId": "ce4b65a4-bc44-482c-d1fe-f37874db91b3"
      },
      "cell_type": "code",
      "source": [
        "## ネットワークの全パラメータを GPU に転送\n",
        "net.to(\"cuda:0\")\n",
        "\n",
        "# 訓練を実行\n",
        "train_losses, train_acc, val_acc = train_net(net, train_loader, test_loader, n_iter=20, device=\"cuda:0\")"
      ],
      "execution_count": 55,
      "outputs": [
        {
          "output_type": "stream",
          "text": [
            "100%|██████████| 23/23 [00:04<00:00,  4.90it/s]\n",
            "  4%|▍         | 1/23 [00:00<00:04,  5.16it/s]"
          ],
          "name": "stderr"
        },
        {
          "output_type": "stream",
          "text": [
            "epoch: 0 train_loss: 0.48652 train_acc: 0.80618 val_acc: 0.75\n"
          ],
          "name": "stdout"
        },
        {
          "output_type": "stream",
          "text": [
            "100%|██████████| 23/23 [00:04<00:00,  5.36it/s]\n",
            "  4%|▍         | 1/23 [00:00<00:04,  5.39it/s]"
          ],
          "name": "stderr"
        },
        {
          "output_type": "stream",
          "text": [
            "epoch: 1 train_loss: 0.43529 train_acc: 0.82163 val_acc: 0.83333\n"
          ],
          "name": "stdout"
        },
        {
          "output_type": "stream",
          "text": [
            "100%|██████████| 23/23 [00:04<00:00,  5.52it/s]\n",
            "  4%|▍         | 1/23 [00:00<00:04,  5.46it/s]"
          ],
          "name": "stderr"
        },
        {
          "output_type": "stream",
          "text": [
            "epoch: 2 train_loss: 0.38071 train_acc: 0.86096 val_acc: 0.83333\n"
          ],
          "name": "stdout"
        },
        {
          "output_type": "stream",
          "text": [
            "100%|██████████| 23/23 [00:04<00:00,  5.60it/s]\n",
            "  4%|▍         | 1/23 [00:00<00:03,  5.53it/s]"
          ],
          "name": "stderr"
        },
        {
          "output_type": "stream",
          "text": [
            "epoch: 3 train_loss: 0.38058 train_acc: 0.85674 val_acc: 0.75\n"
          ],
          "name": "stdout"
        },
        {
          "output_type": "stream",
          "text": [
            "100%|██████████| 23/23 [00:04<00:00,  5.59it/s]\n",
            "  4%|▍         | 1/23 [00:00<00:04,  5.49it/s]"
          ],
          "name": "stderr"
        },
        {
          "output_type": "stream",
          "text": [
            "epoch: 4 train_loss: 0.36856 train_acc: 0.85112 val_acc: 0.81667\n"
          ],
          "name": "stdout"
        },
        {
          "output_type": "stream",
          "text": [
            "100%|██████████| 23/23 [00:04<00:00,  5.59it/s]\n",
            "  4%|▍         | 1/23 [00:00<00:04,  5.42it/s]"
          ],
          "name": "stderr"
        },
        {
          "output_type": "stream",
          "text": [
            "epoch: 5 train_loss: 0.36953 train_acc: 0.84831 val_acc: 0.85\n"
          ],
          "name": "stdout"
        },
        {
          "output_type": "stream",
          "text": [
            "100%|██████████| 23/23 [00:04<00:00,  5.43it/s]\n",
            "  4%|▍         | 1/23 [00:00<00:04,  5.24it/s]"
          ],
          "name": "stderr"
        },
        {
          "output_type": "stream",
          "text": [
            "epoch: 6 train_loss: 0.34435 train_acc: 0.85955 val_acc: 0.83333\n"
          ],
          "name": "stdout"
        },
        {
          "output_type": "stream",
          "text": [
            "100%|██████████| 23/23 [00:04<00:00,  5.30it/s]\n",
            "  4%|▍         | 1/23 [00:00<00:04,  5.37it/s]"
          ],
          "name": "stderr"
        },
        {
          "output_type": "stream",
          "text": [
            "epoch: 7 train_loss: 0.35972 train_acc: 0.85253 val_acc: 0.86667\n"
          ],
          "name": "stdout"
        },
        {
          "output_type": "stream",
          "text": [
            "100%|██████████| 23/23 [00:04<00:00,  5.45it/s]\n",
            "  4%|▍         | 1/23 [00:00<00:04,  5.42it/s]"
          ],
          "name": "stderr"
        },
        {
          "output_type": "stream",
          "text": [
            "epoch: 8 train_loss: 0.30943 train_acc: 0.87219 val_acc: 0.83333\n"
          ],
          "name": "stdout"
        },
        {
          "output_type": "stream",
          "text": [
            "100%|██████████| 23/23 [00:04<00:00,  5.55it/s]\n",
            "  4%|▍         | 1/23 [00:00<00:04,  5.46it/s]"
          ],
          "name": "stderr"
        },
        {
          "output_type": "stream",
          "text": [
            "epoch: 9 train_loss: 0.31084 train_acc: 0.8764 val_acc: 0.88333\n"
          ],
          "name": "stdout"
        },
        {
          "output_type": "stream",
          "text": [
            "100%|██████████| 23/23 [00:04<00:00,  5.55it/s]\n",
            "  4%|▍         | 1/23 [00:00<00:04,  5.29it/s]"
          ],
          "name": "stderr"
        },
        {
          "output_type": "stream",
          "text": [
            "epoch: 10 train_loss: 0.34275 train_acc: 0.87079 val_acc: 0.9\n"
          ],
          "name": "stdout"
        },
        {
          "output_type": "stream",
          "text": [
            "100%|██████████| 23/23 [00:04<00:00,  5.54it/s]\n",
            "  4%|▍         | 1/23 [00:00<00:04,  5.37it/s]"
          ],
          "name": "stderr"
        },
        {
          "output_type": "stream",
          "text": [
            "epoch: 11 train_loss: 0.34603 train_acc: 0.84831 val_acc: 0.81667\n"
          ],
          "name": "stdout"
        },
        {
          "output_type": "stream",
          "text": [
            "100%|██████████| 23/23 [00:04<00:00,  5.59it/s]\n",
            "  4%|▍         | 1/23 [00:00<00:04,  5.50it/s]"
          ],
          "name": "stderr"
        },
        {
          "output_type": "stream",
          "text": [
            "epoch: 12 train_loss: 0.32774 train_acc: 0.87219 val_acc: 0.86667\n"
          ],
          "name": "stdout"
        },
        {
          "output_type": "stream",
          "text": [
            "100%|██████████| 23/23 [00:04<00:00,  5.55it/s]\n",
            "  4%|▍         | 1/23 [00:00<00:04,  5.50it/s]"
          ],
          "name": "stderr"
        },
        {
          "output_type": "stream",
          "text": [
            "epoch: 13 train_loss: 0.34226 train_acc: 0.87079 val_acc: 0.9\n"
          ],
          "name": "stdout"
        },
        {
          "output_type": "stream",
          "text": [
            "100%|██████████| 23/23 [00:04<00:00,  5.56it/s]\n",
            "  4%|▍         | 1/23 [00:00<00:04,  5.45it/s]"
          ],
          "name": "stderr"
        },
        {
          "output_type": "stream",
          "text": [
            "epoch: 14 train_loss: 0.32624 train_acc: 0.86096 val_acc: 0.88333\n"
          ],
          "name": "stdout"
        },
        {
          "output_type": "stream",
          "text": [
            "100%|██████████| 23/23 [00:04<00:00,  5.54it/s]\n",
            "  4%|▍         | 1/23 [00:00<00:03,  5.54it/s]"
          ],
          "name": "stderr"
        },
        {
          "output_type": "stream",
          "text": [
            "epoch: 15 train_loss: 0.29716 train_acc: 0.88062 val_acc: 0.81667\n"
          ],
          "name": "stdout"
        },
        {
          "output_type": "stream",
          "text": [
            "100%|██████████| 23/23 [00:04<00:00,  5.55it/s]\n",
            "  4%|▍         | 1/23 [00:00<00:04,  5.35it/s]"
          ],
          "name": "stderr"
        },
        {
          "output_type": "stream",
          "text": [
            "epoch: 16 train_loss: 0.30108 train_acc: 0.86096 val_acc: 0.86667\n"
          ],
          "name": "stdout"
        },
        {
          "output_type": "stream",
          "text": [
            "100%|██████████| 23/23 [00:04<00:00,  5.42it/s]\n",
            "  4%|▍         | 1/23 [00:00<00:04,  5.29it/s]"
          ],
          "name": "stderr"
        },
        {
          "output_type": "stream",
          "text": [
            "epoch: 17 train_loss: 0.309 train_acc: 0.8736 val_acc: 0.85\n"
          ],
          "name": "stdout"
        },
        {
          "output_type": "stream",
          "text": [
            "100%|██████████| 23/23 [00:04<00:00,  5.42it/s]\n",
            "  4%|▍         | 1/23 [00:00<00:04,  5.45it/s]"
          ],
          "name": "stderr"
        },
        {
          "output_type": "stream",
          "text": [
            "epoch: 18 train_loss: 0.3202 train_acc: 0.85955 val_acc: 0.86667\n"
          ],
          "name": "stdout"
        },
        {
          "output_type": "stream",
          "text": [
            "100%|██████████| 23/23 [00:04<00:00,  5.60it/s]\n"
          ],
          "name": "stderr"
        },
        {
          "output_type": "stream",
          "text": [
            "epoch: 19 train_loss: 0.28736 train_acc: 0.87921 val_acc: 0.88333\n"
          ],
          "name": "stdout"
        }
      ]
    },
    {
      "metadata": {
        "id": "AFquOd6jtkMZ",
        "colab_type": "code",
        "colab": {
          "base_uri": "https://localhost:8080/",
          "height": 320
        },
        "outputId": "1e381ea1-5f88-42fa-f8ed-17277824a5a5"
      },
      "cell_type": "code",
      "source": [
        "plt.figure(figsize=(16,5))\n",
        "plt.subplot(1, 2, 1)\n",
        "plt.plot(train_losses, label=\"train_losses\")\n",
        "plt.legend()\n",
        "plt.subplot(1, 2, 2)\n",
        "plt.plot(train_acc, label=\"train_acc\")\n",
        "plt.plot(val_acc, label=\"val_acc\")\n",
        "plt.legend()\n",
        "plt.show()"
      ],
      "execution_count": 63,
      "outputs": [
        {
          "output_type": "display_data",
          "data": {
            "image/png": "[encoded data removed]",
            "text/plain": [
              "<Figure size 1152x360 with 2 Axes>"
            ]
          },
          "metadata": {
            "tags": []
          }
        }
      ]
    },
    {
      "metadata": {
        "id": "cA5ZeYDUwlOm",
        "colab_type": "text"
      },
      "cell_type": "markdown",
      "source": [
        "fc 層以外はパラメータが変化せず、毎回同じ計算を無駄に行っているとも言えるので事前に計算してそれを入力とするロジスティック回帰モデルを訓練するというのも良い。最後の fc 層を除去する方法は様々あるが、以下のように入力をそのまま出力するダミーの層を作り、fc を置き換えるというのが汎用性が高い。"
      ]
    },
    {
      "metadata": {
        "id": "JI8EOFuWvBVA",
        "colab_type": "code",
        "colab": {}
      },
      "cell_type": "code",
      "source": [
        "## 入力をそのまま出力するダミーの層を作り、fc を置き換える\n",
        "\n",
        "class IdentifyLayer(nn.Module):\n",
        "    def forward(self, x):\n",
        "         return x\n",
        "  \n",
        "net = models.resnet18(pretrained = True)\n",
        "for p in net.parameters():\n",
        "    p.requires_grad = False\n",
        "net.fc = IdentifyLayer()"
      ],
      "execution_count": 0,
      "outputs": []
    },
    {
      "metadata": {
        "id": "bQTlMD4JyZyv",
        "colab_type": "text"
      },
      "cell_type": "markdown",
      "source": [
        "## 4.4 CNN 回帰モデルによる画像の高解像度化"
      ]
    },
    {
      "metadata": {
        "id": "4lBZcXcCxh92",
        "colab_type": "code",
        "colab": {}
      },
      "cell_type": "code",
      "source": [
        ""
      ],
      "execution_count": 0,
      "outputs": []
    },
    {
      "metadata": {
        "id": "rSbATAjUxmMz",
        "colab_type": "code",
        "colab": {}
      },
      "cell_type": "code",
      "source": [
        ""
      ],
      "execution_count": 0,
      "outputs": []
    },
    {
      "metadata": {
        "id": "GegdOL10yXyq",
        "colab_type": "code",
        "colab": {}
      },
      "cell_type": "code",
      "source": [
        ""
      ],
      "execution_count": 0,
      "outputs": []
    }
  ]
}